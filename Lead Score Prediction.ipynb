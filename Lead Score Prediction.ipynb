{
 "cells": [
  {
   "cell_type": "code",
   "execution_count": 1,
   "metadata": {},
   "outputs": [],
   "source": [
    "import pandas as  pd\n",
    "import numpy as np\n",
    "import seaborn as sns\n",
    "import matplotlib.pyplot as plt\n",
    "from sklearn.model_selection import train_test_split, cross_val_score, GridSearchCV\n",
    "from sklearn.preprocessing import LabelEncoder, OneHotEncoder, MaxAbsScaler, MinMaxScaler, StandardScaler\n",
    "from sklearn.linear_model import LogisticRegression, LinearRegression\n",
    "from sklearn.ensemble import RandomForestRegressor, GradientBoostingRegressor\n",
    "from sklearn.svm import SVC\n",
    "from xgboost import XGBRegressor \n",
    "from imblearn.combine import SMOTETomek\n",
    "from sklearn.metrics import *"
   ]
  },
  {
   "cell_type": "code",
   "execution_count": 2,
   "metadata": {},
   "outputs": [
    {
     "data": {
      "text/html": [
       "<div>\n",
       "<style scoped>\n",
       "    .dataframe tbody tr th:only-of-type {\n",
       "        vertical-align: middle;\n",
       "    }\n",
       "\n",
       "    .dataframe tbody tr th {\n",
       "        vertical-align: top;\n",
       "    }\n",
       "\n",
       "    .dataframe thead th {\n",
       "        text-align: right;\n",
       "    }\n",
       "</style>\n",
       "<table border=\"1\" class=\"dataframe\">\n",
       "  <thead>\n",
       "    <tr style=\"text-align: right;\">\n",
       "      <th></th>\n",
       "      <th>Unnamed: 0</th>\n",
       "      <th>Agent_id</th>\n",
       "      <th>status</th>\n",
       "      <th>lost_reason</th>\n",
       "      <th>budget</th>\n",
       "      <th>lease</th>\n",
       "      <th>movein</th>\n",
       "      <th>source</th>\n",
       "      <th>source_city</th>\n",
       "      <th>source_country</th>\n",
       "      <th>utm_source</th>\n",
       "      <th>utm_medium</th>\n",
       "      <th>des_city</th>\n",
       "      <th>des_country</th>\n",
       "      <th>room_type</th>\n",
       "      <th>lead_id</th>\n",
       "    </tr>\n",
       "  </thead>\n",
       "  <tbody>\n",
       "    <tr>\n",
       "      <th>0</th>\n",
       "      <td>0</td>\n",
       "      <td>1deba9e96f404694373de9749ddd1ca8aa7bb823145a6f...</td>\n",
       "      <td>LOST</td>\n",
       "      <td>Not responding</td>\n",
       "      <td>NaN</td>\n",
       "      <td>NaN</td>\n",
       "      <td>NaN</td>\n",
       "      <td>9b2d5b4678781e53038e91ea5324530a03f27dc1d0e5f6...</td>\n",
       "      <td>9b2d5b4678781e53038e91ea5324530a03f27dc1d0e5f6...</td>\n",
       "      <td>9b2d5b4678781e53038e91ea5324530a03f27dc1d0e5f6...</td>\n",
       "      <td>3d59f7548e1af2151b64135003ce63c0a484c26b9b8b16...</td>\n",
       "      <td>268ad70eb5bc4737a2ae28162cbca30118cc94520e49ef...</td>\n",
       "      <td>ecc0e7dc084f141b29479058967d0bc07dee25d9690a98...</td>\n",
       "      <td>8d23a6e37e0a6431a8f1b43a91026dcff51170a89a6512...</td>\n",
       "      <td>NaN</td>\n",
       "      <td>cd5dc0d9393f3980d11d4ba6f88f8110c2b7a7f7796307...</td>\n",
       "    </tr>\n",
       "    <tr>\n",
       "      <th>1</th>\n",
       "      <td>1</td>\n",
       "      <td>299ae77a4ef350ae0dd37d6bba1c002d03444fb1edb236...</td>\n",
       "      <td>LOST</td>\n",
       "      <td>Low budget</td>\n",
       "      <td>NaN</td>\n",
       "      <td>NaN</td>\n",
       "      <td>NaN</td>\n",
       "      <td>9b2d5b4678781e53038e91ea5324530a03f27dc1d0e5f6...</td>\n",
       "      <td>9b2d5b4678781e53038e91ea5324530a03f27dc1d0e5f6...</td>\n",
       "      <td>9b2d5b4678781e53038e91ea5324530a03f27dc1d0e5f6...</td>\n",
       "      <td>3d59f7548e1af2151b64135003ce63c0a484c26b9b8b16...</td>\n",
       "      <td>268ad70eb5bc4737a2ae28162cbca30118cc94520e49ef...</td>\n",
       "      <td>5372372f3bf5896820cb2819300c3e681820d82c6efc54...</td>\n",
       "      <td>8d23a6e37e0a6431a8f1b43a91026dcff51170a89a6512...</td>\n",
       "      <td>NaN</td>\n",
       "      <td>b94693673a5f7178d1b114e4004ad52377d3244dd24a3d...</td>\n",
       "    </tr>\n",
       "    <tr>\n",
       "      <th>2</th>\n",
       "      <td>2</td>\n",
       "      <td>c213697430c006013012dd2aca82dd9732aa0a1a6bca13...</td>\n",
       "      <td>LOST</td>\n",
       "      <td>Not responding</td>\n",
       "      <td>£121 - £180 Per Week</td>\n",
       "      <td>Full Year Course Stay 40 - 44 weeks</td>\n",
       "      <td>31/08/22</td>\n",
       "      <td>7aae3e886e89fc1187a5c47d6cea1c22998ee610ade1f2...</td>\n",
       "      <td>9b8cc3c63cdf447e463c11544924bf027945cbd29675f7...</td>\n",
       "      <td>e09e10e67812e9d236ad900e5d46b4308fc62f5d69446a...</td>\n",
       "      <td>bbdefa2950f49882f295b1285d4fa9dec45fc4144bfb07...</td>\n",
       "      <td>09076eb7665d1fb9389c7c4517fee0b00e43092eb34821...</td>\n",
       "      <td>11ab03a1a8c367191355c152f39fe28cae5e426fce49ef...</td>\n",
       "      <td>8d23a6e37e0a6431a8f1b43a91026dcff51170a89a6512...</td>\n",
       "      <td>Ensuite</td>\n",
       "      <td>96ea4e2bf04496c044745938c0299c264c3f4ba079e572...</td>\n",
       "    </tr>\n",
       "    <tr>\n",
       "      <th>3</th>\n",
       "      <td>3</td>\n",
       "      <td>eac9815a500f908736d303e23aa227f0957177b0e6756b...</td>\n",
       "      <td>LOST</td>\n",
       "      <td>Low budget</td>\n",
       "      <td>0-0</td>\n",
       "      <td>0</td>\n",
       "      <td>NaN</td>\n",
       "      <td>ba2d0a29556ac20f86f45e4543c0825428cba33fd7a9ea...</td>\n",
       "      <td>a5f0d2d08eb0592087e3a3a2f9c1ba2c67cc30f2efd2bd...</td>\n",
       "      <td>e09e10e67812e9d236ad900e5d46b4308fc62f5d69446a...</td>\n",
       "      <td>bbdefa2950f49882f295b1285d4fa9dec45fc4144bfb07...</td>\n",
       "      <td>09076eb7665d1fb9389c7c4517fee0b00e43092eb34821...</td>\n",
       "      <td>19372fa44c57a01c37a5a8418779ca3d99b0b59731fb35...</td>\n",
       "      <td>8d23a6e37e0a6431a8f1b43a91026dcff51170a89a6512...</td>\n",
       "      <td>NaN</td>\n",
       "      <td>1d2b34d8add02a182a4129023766ca4585a8ddced0e5b3...</td>\n",
       "    </tr>\n",
       "    <tr>\n",
       "      <th>4</th>\n",
       "      <td>4</td>\n",
       "      <td>1deba9e96f404694373de9749ddd1ca8aa7bb823145a6f...</td>\n",
       "      <td>LOST</td>\n",
       "      <td>Junk lead</td>\n",
       "      <td>NaN</td>\n",
       "      <td>NaN</td>\n",
       "      <td>NaN</td>\n",
       "      <td>9b2d5b4678781e53038e91ea5324530a03f27dc1d0e5f6...</td>\n",
       "      <td>9b2d5b4678781e53038e91ea5324530a03f27dc1d0e5f6...</td>\n",
       "      <td>9b2d5b4678781e53038e91ea5324530a03f27dc1d0e5f6...</td>\n",
       "      <td>3d59f7548e1af2151b64135003ce63c0a484c26b9b8b16...</td>\n",
       "      <td>268ad70eb5bc4737a2ae28162cbca30118cc94520e49ef...</td>\n",
       "      <td>9b2d5b4678781e53038e91ea5324530a03f27dc1d0e5f6...</td>\n",
       "      <td>9b2d5b4678781e53038e91ea5324530a03f27dc1d0e5f6...</td>\n",
       "      <td>NaN</td>\n",
       "      <td>fc10fffd29cfbe93c55158fb47752a7501c211d253468c...</td>\n",
       "    </tr>\n",
       "  </tbody>\n",
       "</table>\n",
       "</div>"
      ],
      "text/plain": [
       "   Unnamed: 0                                           Agent_id status  \\\n",
       "0           0  1deba9e96f404694373de9749ddd1ca8aa7bb823145a6f...   LOST   \n",
       "1           1  299ae77a4ef350ae0dd37d6bba1c002d03444fb1edb236...   LOST   \n",
       "2           2  c213697430c006013012dd2aca82dd9732aa0a1a6bca13...   LOST   \n",
       "3           3  eac9815a500f908736d303e23aa227f0957177b0e6756b...   LOST   \n",
       "4           4  1deba9e96f404694373de9749ddd1ca8aa7bb823145a6f...   LOST   \n",
       "\n",
       "      lost_reason                budget                                lease  \\\n",
       "0  Not responding                   NaN                                  NaN   \n",
       "1      Low budget                   NaN                                  NaN   \n",
       "2  Not responding  £121 - £180 Per Week  Full Year Course Stay 40 - 44 weeks   \n",
       "3      Low budget                   0-0                                    0   \n",
       "4       Junk lead                   NaN                                  NaN   \n",
       "\n",
       "     movein                                             source  \\\n",
       "0       NaN  9b2d5b4678781e53038e91ea5324530a03f27dc1d0e5f6...   \n",
       "1       NaN  9b2d5b4678781e53038e91ea5324530a03f27dc1d0e5f6...   \n",
       "2  31/08/22  7aae3e886e89fc1187a5c47d6cea1c22998ee610ade1f2...   \n",
       "3       NaN  ba2d0a29556ac20f86f45e4543c0825428cba33fd7a9ea...   \n",
       "4       NaN  9b2d5b4678781e53038e91ea5324530a03f27dc1d0e5f6...   \n",
       "\n",
       "                                         source_city  \\\n",
       "0  9b2d5b4678781e53038e91ea5324530a03f27dc1d0e5f6...   \n",
       "1  9b2d5b4678781e53038e91ea5324530a03f27dc1d0e5f6...   \n",
       "2  9b8cc3c63cdf447e463c11544924bf027945cbd29675f7...   \n",
       "3  a5f0d2d08eb0592087e3a3a2f9c1ba2c67cc30f2efd2bd...   \n",
       "4  9b2d5b4678781e53038e91ea5324530a03f27dc1d0e5f6...   \n",
       "\n",
       "                                      source_country  \\\n",
       "0  9b2d5b4678781e53038e91ea5324530a03f27dc1d0e5f6...   \n",
       "1  9b2d5b4678781e53038e91ea5324530a03f27dc1d0e5f6...   \n",
       "2  e09e10e67812e9d236ad900e5d46b4308fc62f5d69446a...   \n",
       "3  e09e10e67812e9d236ad900e5d46b4308fc62f5d69446a...   \n",
       "4  9b2d5b4678781e53038e91ea5324530a03f27dc1d0e5f6...   \n",
       "\n",
       "                                          utm_source  \\\n",
       "0  3d59f7548e1af2151b64135003ce63c0a484c26b9b8b16...   \n",
       "1  3d59f7548e1af2151b64135003ce63c0a484c26b9b8b16...   \n",
       "2  bbdefa2950f49882f295b1285d4fa9dec45fc4144bfb07...   \n",
       "3  bbdefa2950f49882f295b1285d4fa9dec45fc4144bfb07...   \n",
       "4  3d59f7548e1af2151b64135003ce63c0a484c26b9b8b16...   \n",
       "\n",
       "                                          utm_medium  \\\n",
       "0  268ad70eb5bc4737a2ae28162cbca30118cc94520e49ef...   \n",
       "1  268ad70eb5bc4737a2ae28162cbca30118cc94520e49ef...   \n",
       "2  09076eb7665d1fb9389c7c4517fee0b00e43092eb34821...   \n",
       "3  09076eb7665d1fb9389c7c4517fee0b00e43092eb34821...   \n",
       "4  268ad70eb5bc4737a2ae28162cbca30118cc94520e49ef...   \n",
       "\n",
       "                                            des_city  \\\n",
       "0  ecc0e7dc084f141b29479058967d0bc07dee25d9690a98...   \n",
       "1  5372372f3bf5896820cb2819300c3e681820d82c6efc54...   \n",
       "2  11ab03a1a8c367191355c152f39fe28cae5e426fce49ef...   \n",
       "3  19372fa44c57a01c37a5a8418779ca3d99b0b59731fb35...   \n",
       "4  9b2d5b4678781e53038e91ea5324530a03f27dc1d0e5f6...   \n",
       "\n",
       "                                         des_country room_type  \\\n",
       "0  8d23a6e37e0a6431a8f1b43a91026dcff51170a89a6512...       NaN   \n",
       "1  8d23a6e37e0a6431a8f1b43a91026dcff51170a89a6512...       NaN   \n",
       "2  8d23a6e37e0a6431a8f1b43a91026dcff51170a89a6512...   Ensuite   \n",
       "3  8d23a6e37e0a6431a8f1b43a91026dcff51170a89a6512...       NaN   \n",
       "4  9b2d5b4678781e53038e91ea5324530a03f27dc1d0e5f6...       NaN   \n",
       "\n",
       "                                             lead_id  \n",
       "0  cd5dc0d9393f3980d11d4ba6f88f8110c2b7a7f7796307...  \n",
       "1  b94693673a5f7178d1b114e4004ad52377d3244dd24a3d...  \n",
       "2  96ea4e2bf04496c044745938c0299c264c3f4ba079e572...  \n",
       "3  1d2b34d8add02a182a4129023766ca4585a8ddced0e5b3...  \n",
       "4  fc10fffd29cfbe93c55158fb47752a7501c211d253468c...  "
      ]
     },
     "execution_count": 2,
     "metadata": {},
     "output_type": "execute_result"
    }
   ],
   "source": [
    "df= pd.read_csv('Dataset.csv')\n",
    "df.head()"
   ]
  },
  {
   "cell_type": "code",
   "execution_count": 3,
   "metadata": {},
   "outputs": [
    {
     "name": "stdout",
     "output_type": "stream",
     "text": [
      "<class 'pandas.core.frame.DataFrame'>\n",
      "RangeIndex: 46608 entries, 0 to 46607\n",
      "Data columns (total 16 columns):\n",
      " #   Column          Non-Null Count  Dtype \n",
      "---  ------          --------------  ----- \n",
      " 0   Unnamed: 0      46608 non-null  int64 \n",
      " 1   Agent_id        46608 non-null  object\n",
      " 2   status          46608 non-null  object\n",
      " 3   lost_reason     43244 non-null  object\n",
      " 4   budget          42908 non-null  object\n",
      " 5   lease           44267 non-null  object\n",
      " 6   movein          32970 non-null  object\n",
      " 7   source          46608 non-null  object\n",
      " 8   source_city     46608 non-null  object\n",
      " 9   source_country  46608 non-null  object\n",
      " 10  utm_source      46608 non-null  object\n",
      " 11  utm_medium      46608 non-null  object\n",
      " 12  des_city        46608 non-null  object\n",
      " 13  des_country     46608 non-null  object\n",
      " 14  room_type       23061 non-null  object\n",
      " 15  lead_id         46608 non-null  object\n",
      "dtypes: int64(1), object(15)\n",
      "memory usage: 5.7+ MB\n"
     ]
    }
   ],
   "source": [
    "df.info()"
   ]
  },
  {
   "cell_type": "code",
   "execution_count": 4,
   "metadata": {},
   "outputs": [],
   "source": [
    "df= df.drop(['Unnamed: 0','Agent_id','source', 'source_city', 'source_country', 'utm_source',\n",
    "       'utm_medium', 'des_city', 'des_country','lead_id'],axis=1)"
   ]
  },
  {
   "cell_type": "code",
   "execution_count": 5,
   "metadata": {},
   "outputs": [
    {
     "data": {
      "text/html": [
       "<div>\n",
       "<style scoped>\n",
       "    .dataframe tbody tr th:only-of-type {\n",
       "        vertical-align: middle;\n",
       "    }\n",
       "\n",
       "    .dataframe tbody tr th {\n",
       "        vertical-align: top;\n",
       "    }\n",
       "\n",
       "    .dataframe thead th {\n",
       "        text-align: right;\n",
       "    }\n",
       "</style>\n",
       "<table border=\"1\" class=\"dataframe\">\n",
       "  <thead>\n",
       "    <tr style=\"text-align: right;\">\n",
       "      <th></th>\n",
       "      <th>status</th>\n",
       "      <th>lost_reason</th>\n",
       "      <th>budget</th>\n",
       "      <th>lease</th>\n",
       "      <th>movein</th>\n",
       "      <th>room_type</th>\n",
       "    </tr>\n",
       "  </thead>\n",
       "  <tbody>\n",
       "    <tr>\n",
       "      <th>0</th>\n",
       "      <td>LOST</td>\n",
       "      <td>Not responding</td>\n",
       "      <td>NaN</td>\n",
       "      <td>NaN</td>\n",
       "      <td>NaN</td>\n",
       "      <td>NaN</td>\n",
       "    </tr>\n",
       "    <tr>\n",
       "      <th>1</th>\n",
       "      <td>LOST</td>\n",
       "      <td>Low budget</td>\n",
       "      <td>NaN</td>\n",
       "      <td>NaN</td>\n",
       "      <td>NaN</td>\n",
       "      <td>NaN</td>\n",
       "    </tr>\n",
       "    <tr>\n",
       "      <th>2</th>\n",
       "      <td>LOST</td>\n",
       "      <td>Not responding</td>\n",
       "      <td>£121 - £180 Per Week</td>\n",
       "      <td>Full Year Course Stay 40 - 44 weeks</td>\n",
       "      <td>31/08/22</td>\n",
       "      <td>Ensuite</td>\n",
       "    </tr>\n",
       "    <tr>\n",
       "      <th>3</th>\n",
       "      <td>LOST</td>\n",
       "      <td>Low budget</td>\n",
       "      <td>0-0</td>\n",
       "      <td>0</td>\n",
       "      <td>NaN</td>\n",
       "      <td>NaN</td>\n",
       "    </tr>\n",
       "    <tr>\n",
       "      <th>4</th>\n",
       "      <td>LOST</td>\n",
       "      <td>Junk lead</td>\n",
       "      <td>NaN</td>\n",
       "      <td>NaN</td>\n",
       "      <td>NaN</td>\n",
       "      <td>NaN</td>\n",
       "    </tr>\n",
       "  </tbody>\n",
       "</table>\n",
       "</div>"
      ],
      "text/plain": [
       "  status     lost_reason                budget  \\\n",
       "0   LOST  Not responding                   NaN   \n",
       "1   LOST      Low budget                   NaN   \n",
       "2   LOST  Not responding  £121 - £180 Per Week   \n",
       "3   LOST      Low budget                   0-0   \n",
       "4   LOST       Junk lead                   NaN   \n",
       "\n",
       "                                 lease    movein room_type  \n",
       "0                                  NaN       NaN       NaN  \n",
       "1                                  NaN       NaN       NaN  \n",
       "2  Full Year Course Stay 40 - 44 weeks  31/08/22   Ensuite  \n",
       "3                                    0       NaN       NaN  \n",
       "4                                  NaN       NaN       NaN  "
      ]
     },
     "execution_count": 5,
     "metadata": {},
     "output_type": "execute_result"
    }
   ],
   "source": [
    "df.head()"
   ]
  },
  {
   "cell_type": "code",
   "execution_count": 6,
   "metadata": {},
   "outputs": [
    {
     "name": "stderr",
     "output_type": "stream",
     "text": [
      "C:\\Users\\Lenovo\\AppData\\Local\\Temp\\ipykernel_8596\\4118114261.py:7: FutureWarning: The frame.append method is deprecated and will be removed from pandas in a future version. Use pandas.concat instead.\n",
      "  temp= temp.append(df[df['status'] == i])\n",
      "C:\\Users\\Lenovo\\AppData\\Local\\Temp\\ipykernel_8596\\4118114261.py:5: FutureWarning: The frame.append method is deprecated and will be removed from pandas in a future version. Use pandas.concat instead.\n",
      "  temp= temp.append(df[df['status'] == i])\n"
     ]
    }
   ],
   "source": [
    "temp= pd.DataFrame()\n",
    "for i in ['LOST', 'WON', 'OPPORTUNITY', 'CONTACTED', 'PROCESSING',\n",
    "       'IMPORTANT']:\n",
    "    if i == 'WON':\n",
    "        temp= temp.append(df[df['status'] == i])\n",
    "    elif i == 'LOST':\n",
    "        temp= temp.append(df[df['status'] == i])   "
   ]
  },
  {
   "cell_type": "code",
   "execution_count": 7,
   "metadata": {},
   "outputs": [
    {
     "data": {
      "text/plain": [
       "LOST    43244\n",
       "WON      3073\n",
       "Name: status, dtype: int64"
      ]
     },
     "execution_count": 7,
     "metadata": {},
     "output_type": "execute_result"
    }
   ],
   "source": [
    "temp.status.value_counts()"
   ]
  },
  {
   "cell_type": "markdown",
   "metadata": {},
   "source": [
    "# Data Cleaning and Feature Engineering"
   ]
  },
  {
   "cell_type": "code",
   "execution_count": 8,
   "metadata": {},
   "outputs": [
    {
     "data": {
      "text/plain": [
       "array([nan, '£121 - £180 Per Week', '0-0', ..., '208',\n",
       "       '0-200 to 300pounds', '£135 Per week'], dtype=object)"
      ]
     },
     "execution_count": 8,
     "metadata": {},
     "output_type": "execute_result"
    }
   ],
   "source": [
    "temp.budget.unique()"
   ]
  },
  {
   "cell_type": "code",
   "execution_count": 9,
   "metadata": {},
   "outputs": [],
   "source": [
    "temp['budget']= temp.budget.str.replace(' ','').str.replace('Per',' ').str.split(' ',n=1,expand=True)[0].str.replace('per',' ').str.split(' ',n=1,expand=True)[0]"
   ]
  },
  {
   "cell_type": "code",
   "execution_count": 10,
   "metadata": {},
   "outputs": [],
   "source": [
    "temp['budget']=temp['budget'].str.replace('£','').str.replace('/',' ').str.split(' ',n=1,expand= True)[0]"
   ]
  },
  {
   "cell_type": "code",
   "execution_count": 11,
   "metadata": {},
   "outputs": [],
   "source": [
    "temp['budget']=temp['budget'].str.split('-',n=1,expand=True)[0]\n"
   ]
  },
  {
   "cell_type": "code",
   "execution_count": 12,
   "metadata": {},
   "outputs": [],
   "source": [
    "df= temp[temp['budget'].str.isnumeric()== True]\n",
    "    "
   ]
  },
  {
   "cell_type": "code",
   "execution_count": 13,
   "metadata": {},
   "outputs": [
    {
     "data": {
      "text/plain": [
       "array(['Full Year Course Stay 40 - 44 weeks', '0', 'semester-stay', '51',\n",
       "       'Semester Stay 20 - 24 weeks',\n",
       "       'Complete Education Year Stay 50 - 52 weeks', 'full-course-stay',\n",
       "       'full-year-stay', 'Other', '51 weeks', '44', '18', '51weeks',\n",
       "       'Summer/Short Stay 8 - 12 weeks', '51 weeks \\\\', 'other',\n",
       "       'short-stay', '52 weeks', '44 weeks', '12', '96', '43', '20',\n",
       "       'full year stay', '1 year', '294', '20 - 24 weeks', '1 year .',\n",
       "       '48', '6', 'Academic year', '8', '51Weeks', '50 weeks', nan, '84',\n",
       "       '15 weeks', '45', '39', '1', '50', '12-24', '25', '45 weeks',\n",
       "       '44-51', '6 weeks', '24-36', '32', '44/week', '42', '40',\n",
       "       '3 month', '44-51 weeks', '6 months', '2 years', '10', '52',\n",
       "       '2 weeks', '46', '13', 'lease', 'short stay', '4', '52weeks',\n",
       "       'FULL YEAR', '69', '16', '50 - 52 weeks', '44 - 51 weeks',\n",
       "       '4-8 weeks', '4 weeks', 'full course', '3', '24', 'Full year stay',\n",
       "       '11', '10-15 weeks', '40-44', '26', '40 - 44 weeks', '51\\\\',\n",
       "       '51 week', '36 - 44', '140', 'Sem Stay', '44/51 weeks', '56',\n",
       "       '40 weeks', '41', '1 month', '10 months', '<=8', '44 WEEKS', '21',\n",
       "       '2', '24-44 weeks', '350', '06 months', '47', '12 weeks', '38',\n",
       "       '54', '37', '30', '16 weeks', '4 WEEKS', '15', '17', '44weeks',\n",
       "       '5', 'Full Year Course Stay 51 weeks', '500-550pm', '12m',\n",
       "       '5 months', '36', 'not sure', '49', '3 months', '41 weeks',\n",
       "       '45/week', '23', 'Full Year Course Stay 44- 51 weeks',\n",
       "       'Full Year Stay', '44 week', '10 weeks', 'semester stay',\n",
       "       'academic year', '42-52 weeks', '41weeks', '34', '16 week',\n",
       "       'until dec', 'full year', '51-54weeks', '357', 'Full year',\n",
       "       '35 weeks', '7 days', '4 months', 'sem stay', '55', '56 weeks',\n",
       "       '207', '35', '14', '1 year stay.', '30 weeks', '61', '88', '1year',\n",
       "       '3-4 weeks', '51 weeks ( I don’t mind travelling over an hour)',\n",
       "       'N/44', '38 Weeks', '24-48 weeks', '156', '9-12 months',\n",
       "       '6 motnhs', '44WEEKS', '2 -3weeks', '8 weeks', '51 weeks weeks',\n",
       "       '20weeks', '1 month\\\\', '24 weeks', 'aug', '97', '44-51weeks',\n",
       "       '76', '44/weeks', '6 month', '36-40 weeks', '17 weeks', '12 month',\n",
       "       '44 weeks/51 weeks', 'full year stayt', 'Short stay', '1 week',\n",
       "       '31', '22', '125/week', '60', '1-2', '03 months', '44 - 51', '-',\n",
       "       'Semester Stay', '27', '46 weeks', '38-44 weeks',\n",
       "       'full yyear stay', '0.5', '8-12 weeks', '6months', '40-44 weeks',\n",
       "       '9', 'London', '46 week', '72', 'Long time', '42 weeks',\n",
       "       '12 months', '33', '1 year stay', '6weeks', '2years', '43 weeks',\n",
       "       '6 months (26 weeks)', '20 weeks', '53 weeks', 'Full Year',\n",
       "       '10 month', '10weeks', 'till december', '36-38 weeks', '19 weeks',\n",
       "       '40weeks +', '40 week', '250', '39 weeks', '2-3 months',\n",
       "       '130/week', '51 wweeks', '9 months', '68', '44 or 51 weeks',\n",
       "       '52 WEEKS', '51  weeks', '51sweek', '48 weeks', '14 weeks',\n",
       "       '43/44 weeks', '130', '58', '3months', 'Until June 2023',\n",
       "       '34 weeks', 'Whole year', '-51 weeks', '45 WEEKS', 'Until august',\n",
       "       '39 week', '8months', '150', '2 months', '38 weeks', '1-2 months',\n",
       "       'Full time', '1 weeks', '44-', '2 month', '3-5 months', '3 weeks',\n",
       "       '143', '44 week s', '57', '129', '29', 'Sem stay', '70', '189',\n",
       "       '5-6 weeks', 'academic yr', '12 weeks max', '23 weeks', '89',\n",
       "       '1 mnth', '22 weeks', '51 Weeks', '33 weeks', '78', 'N51', '19',\n",
       "       'Semester stay', '25-30 weeks', '28', '45 weeksa', '44 week stay',\n",
       "       '144', '1 YEAR', '24-44weeks'], dtype=object)"
      ]
     },
     "execution_count": 13,
     "metadata": {},
     "output_type": "execute_result"
    }
   ],
   "source": [
    "df.lease.unique()"
   ]
  },
  {
   "cell_type": "code",
   "execution_count": 14,
   "metadata": {},
   "outputs": [
    {
     "name": "stderr",
     "output_type": "stream",
     "text": [
      "C:\\Users\\Lenovo\\AppData\\Local\\Temp\\ipykernel_8596\\1046899661.py:1: SettingWithCopyWarning: \n",
      "A value is trying to be set on a copy of a slice from a DataFrame.\n",
      "Try using .loc[row_indexer,col_indexer] = value instead\n",
      "\n",
      "See the caveats in the documentation: https://pandas.pydata.org/pandas-docs/stable/user_guide/indexing.html#returning-a-view-versus-a-copy\n",
      "  df['stay_type']=df.lease.str.replace('[^A-Za-z]','',regex= True).str.lower()\n",
      "C:\\Users\\Lenovo\\AppData\\Local\\Temp\\ipykernel_8596\\1046899661.py:13: SettingWithCopyWarning: \n",
      "A value is trying to be set on a copy of a slice from a DataFrame.\n",
      "Try using .loc[row_indexer,col_indexer] = value instead\n",
      "\n",
      "See the caveats in the documentation: https://pandas.pydata.org/pandas-docs/stable/user_guide/indexing.html#returning-a-view-versus-a-copy\n",
      "  df['stay_type']=df['stay_type'].apply(FE)\n"
     ]
    }
   ],
   "source": [
    "df['stay_type']=df.lease.str.replace('[^A-Za-z]','',regex= True).str.lower()\n",
    "\n",
    "def FE(text):\n",
    "    if isinstance(text, float): \n",
    "        return 0\n",
    "    else:\n",
    "        if 'year' in text:\n",
    "            return 1\n",
    "        elif 'semester' in text:\n",
    "            return 2\n",
    "        else:\n",
    "            return 0\n",
    "df['stay_type']=df['stay_type'].apply(FE)        "
   ]
  },
  {
   "cell_type": "code",
   "execution_count": 15,
   "metadata": {},
   "outputs": [
    {
     "data": {
      "text/html": [
       "<div>\n",
       "<style scoped>\n",
       "    .dataframe tbody tr th:only-of-type {\n",
       "        vertical-align: middle;\n",
       "    }\n",
       "\n",
       "    .dataframe tbody tr th {\n",
       "        vertical-align: top;\n",
       "    }\n",
       "\n",
       "    .dataframe thead th {\n",
       "        text-align: right;\n",
       "    }\n",
       "</style>\n",
       "<table border=\"1\" class=\"dataframe\">\n",
       "  <thead>\n",
       "    <tr style=\"text-align: right;\">\n",
       "      <th></th>\n",
       "      <th>status</th>\n",
       "      <th>lost_reason</th>\n",
       "      <th>budget</th>\n",
       "      <th>lease</th>\n",
       "      <th>movein</th>\n",
       "      <th>room_type</th>\n",
       "      <th>stay_type</th>\n",
       "    </tr>\n",
       "  </thead>\n",
       "  <tbody>\n",
       "    <tr>\n",
       "      <th>2</th>\n",
       "      <td>LOST</td>\n",
       "      <td>Not responding</td>\n",
       "      <td>121</td>\n",
       "      <td>Full Year Course Stay 40 - 44 weeks</td>\n",
       "      <td>31/08/22</td>\n",
       "      <td>Ensuite</td>\n",
       "      <td>1</td>\n",
       "    </tr>\n",
       "    <tr>\n",
       "      <th>3</th>\n",
       "      <td>LOST</td>\n",
       "      <td>Low budget</td>\n",
       "      <td>0</td>\n",
       "      <td>0</td>\n",
       "      <td>NaN</td>\n",
       "      <td>NaN</td>\n",
       "      <td>0</td>\n",
       "    </tr>\n",
       "    <tr>\n",
       "      <th>5</th>\n",
       "      <td>LOST</td>\n",
       "      <td>Wants private accommodation</td>\n",
       "      <td>120</td>\n",
       "      <td>semester-stay</td>\n",
       "      <td>NaN</td>\n",
       "      <td>NaN</td>\n",
       "      <td>2</td>\n",
       "    </tr>\n",
       "    <tr>\n",
       "      <th>6</th>\n",
       "      <td>LOST</td>\n",
       "      <td>Short stay</td>\n",
       "      <td>0</td>\n",
       "      <td>0</td>\n",
       "      <td>NaN</td>\n",
       "      <td>NaN</td>\n",
       "      <td>0</td>\n",
       "    </tr>\n",
       "    <tr>\n",
       "      <th>7</th>\n",
       "      <td>LOST</td>\n",
       "      <td>Wants private accommodation</td>\n",
       "      <td>181</td>\n",
       "      <td>51</td>\n",
       "      <td>08/09/22</td>\n",
       "      <td>Entire Place</td>\n",
       "      <td>0</td>\n",
       "    </tr>\n",
       "  </tbody>\n",
       "</table>\n",
       "</div>"
      ],
      "text/plain": [
       "  status                  lost_reason budget  \\\n",
       "2   LOST               Not responding    121   \n",
       "3   LOST                   Low budget      0   \n",
       "5   LOST  Wants private accommodation    120   \n",
       "6   LOST                   Short stay      0   \n",
       "7   LOST  Wants private accommodation    181   \n",
       "\n",
       "                                 lease    movein     room_type  stay_type  \n",
       "2  Full Year Course Stay 40 - 44 weeks  31/08/22       Ensuite          1  \n",
       "3                                    0       NaN           NaN          0  \n",
       "5                        semester-stay       NaN           NaN          2  \n",
       "6                                    0       NaN           NaN          0  \n",
       "7                                   51  08/09/22  Entire Place          0  "
      ]
     },
     "execution_count": 15,
     "metadata": {},
     "output_type": "execute_result"
    }
   ],
   "source": [
    "df.head()"
   ]
  },
  {
   "cell_type": "code",
   "execution_count": null,
   "metadata": {},
   "outputs": [],
   "source": []
  },
  {
   "cell_type": "code",
   "execution_count": 16,
   "metadata": {},
   "outputs": [
    {
     "name": "stderr",
     "output_type": "stream",
     "text": [
      "C:\\Users\\Lenovo\\AppData\\Local\\Temp\\ipykernel_8596\\2420389272.py:1: SettingWithCopyWarning: \n",
      "A value is trying to be set on a copy of a slice from a DataFrame.\n",
      "Try using .loc[row_indexer,col_indexer] = value instead\n",
      "\n",
      "See the caveats in the documentation: https://pandas.pydata.org/pandas-docs/stable/user_guide/indexing.html#returning-a-view-versus-a-copy\n",
      "  df.lease=df.lease.str.split('weeks',n=1, expand= True)[0].str.replace('Full Year Course Stay','').str.replace('Complete Education Year Stay','').str.replace('Semester Stay','').str.replace('Summer/Short Stay','')\n"
     ]
    }
   ],
   "source": [
    "df.lease=df.lease.str.split('weeks',n=1, expand= True)[0].str.replace('Full Year Course Stay','').str.replace('Complete Education Year Stay','').str.replace('Semester Stay','').str.replace('Summer/Short Stay','')"
   ]
  },
  {
   "cell_type": "code",
   "execution_count": 17,
   "metadata": {},
   "outputs": [
    {
     "name": "stderr",
     "output_type": "stream",
     "text": [
      "C:\\Users\\Lenovo\\AppData\\Local\\Temp\\ipykernel_8596\\287772829.py:1: SettingWithCopyWarning: \n",
      "A value is trying to be set on a copy of a slice from a DataFrame.\n",
      "Try using .loc[row_indexer,col_indexer] = value instead\n",
      "\n",
      "See the caveats in the documentation: https://pandas.pydata.org/pandas-docs/stable/user_guide/indexing.html#returning-a-view-versus-a-copy\n",
      "  df.lease= df.lease.str.split('-',n=1,expand= True)[0].str.replace(' ','')\n",
      "C:\\Users\\Lenovo\\AppData\\Local\\Temp\\ipykernel_8596\\287772829.py:3: SettingWithCopyWarning: \n",
      "A value is trying to be set on a copy of a slice from a DataFrame.\n",
      "Try using .loc[row_indexer,col_indexer] = value instead\n",
      "\n",
      "See the caveats in the documentation: https://pandas.pydata.org/pandas-docs/stable/user_guide/indexing.html#returning-a-view-versus-a-copy\n",
      "  df.lease=df.lease.str.replace('[^0-9]','',regex= True)\n"
     ]
    }
   ],
   "source": [
    "df.lease= df.lease.str.split('-',n=1,expand= True)[0].str.replace(' ','')\n",
    "df.lease.count()\n",
    "df.lease=df.lease.str.replace('[^0-9]','',regex= True)"
   ]
  },
  {
   "cell_type": "code",
   "execution_count": 18,
   "metadata": {},
   "outputs": [
    {
     "name": "stderr",
     "output_type": "stream",
     "text": [
      "C:\\Users\\Lenovo\\AppData\\Local\\Temp\\ipykernel_8596\\88711404.py:1: SettingWithCopyWarning: \n",
      "A value is trying to be set on a copy of a slice from a DataFrame.\n",
      "Try using .loc[row_indexer,col_indexer] = value instead\n",
      "\n",
      "See the caveats in the documentation: https://pandas.pydata.org/pandas-docs/stable/user_guide/indexing.html#returning-a-view-versus-a-copy\n",
      "  df.budget=df.budget.astype(int)\n",
      "C:\\Users\\Lenovo\\AppData\\Local\\Temp\\ipykernel_8596\\88711404.py:2: SettingWithCopyWarning: \n",
      "A value is trying to be set on a copy of a slice from a DataFrame.\n",
      "Try using .loc[row_indexer,col_indexer] = value instead\n",
      "\n",
      "See the caveats in the documentation: https://pandas.pydata.org/pandas-docs/stable/user_guide/indexing.html#returning-a-view-versus-a-copy\n",
      "  df.stay_type= df.stay_type.astype(int)\n"
     ]
    }
   ],
   "source": [
    "df.budget=df.budget.astype(int)\n",
    "df.stay_type= df.stay_type.astype(int)"
   ]
  },
  {
   "cell_type": "code",
   "execution_count": 19,
   "metadata": {},
   "outputs": [
    {
     "name": "stderr",
     "output_type": "stream",
     "text": [
      "C:\\Users\\Lenovo\\AppData\\Local\\Temp\\ipykernel_8596\\2579332941.py:6: SettingWithCopyWarning: \n",
      "A value is trying to be set on a copy of a slice from a DataFrame.\n",
      "Try using .loc[row_indexer,col_indexer] = value instead\n",
      "\n",
      "See the caveats in the documentation: https://pandas.pydata.org/pandas-docs/stable/user_guide/indexing.html#returning-a-view-versus-a-copy\n",
      "  df.lease= df.lease.apply(remove)\n"
     ]
    }
   ],
   "source": [
    "def remove(text):\n",
    "    if isinstance(text, float): \n",
    "        return ''\n",
    "    else:\n",
    "        return text\n",
    "df.lease= df.lease.apply(remove)    \n"
   ]
  },
  {
   "cell_type": "code",
   "execution_count": 20,
   "metadata": {},
   "outputs": [],
   "source": [
    "df= df[df.lease != '']"
   ]
  },
  {
   "cell_type": "code",
   "execution_count": 21,
   "metadata": {},
   "outputs": [],
   "source": [
    "df.lease= df.lease.astype(int)"
   ]
  },
  {
   "cell_type": "code",
   "execution_count": 22,
   "metadata": {},
   "outputs": [
    {
     "data": {
      "text/plain": [
       "status         object\n",
       "lost_reason    object\n",
       "budget          int32\n",
       "lease           int32\n",
       "movein         object\n",
       "room_type      object\n",
       "stay_type       int32\n",
       "dtype: object"
      ]
     },
     "execution_count": 22,
     "metadata": {},
     "output_type": "execute_result"
    }
   ],
   "source": [
    "df.dtypes"
   ]
  },
  {
   "cell_type": "code",
   "execution_count": 23,
   "metadata": {},
   "outputs": [
    {
     "data": {
      "text/html": [
       "<div>\n",
       "<style scoped>\n",
       "    .dataframe tbody tr th:only-of-type {\n",
       "        vertical-align: middle;\n",
       "    }\n",
       "\n",
       "    .dataframe tbody tr th {\n",
       "        vertical-align: top;\n",
       "    }\n",
       "\n",
       "    .dataframe thead th {\n",
       "        text-align: right;\n",
       "    }\n",
       "</style>\n",
       "<table border=\"1\" class=\"dataframe\">\n",
       "  <thead>\n",
       "    <tr style=\"text-align: right;\">\n",
       "      <th></th>\n",
       "      <th>status</th>\n",
       "      <th>lost_reason</th>\n",
       "      <th>budget</th>\n",
       "      <th>lease</th>\n",
       "      <th>movein</th>\n",
       "      <th>room_type</th>\n",
       "      <th>stay_type</th>\n",
       "    </tr>\n",
       "  </thead>\n",
       "  <tbody>\n",
       "    <tr>\n",
       "      <th>2</th>\n",
       "      <td>LOST</td>\n",
       "      <td>Not responding</td>\n",
       "      <td>121</td>\n",
       "      <td>40</td>\n",
       "      <td>31/08/22</td>\n",
       "      <td>Ensuite</td>\n",
       "      <td>1</td>\n",
       "    </tr>\n",
       "    <tr>\n",
       "      <th>3</th>\n",
       "      <td>LOST</td>\n",
       "      <td>Low budget</td>\n",
       "      <td>0</td>\n",
       "      <td>0</td>\n",
       "      <td>NaN</td>\n",
       "      <td>NaN</td>\n",
       "      <td>0</td>\n",
       "    </tr>\n",
       "    <tr>\n",
       "      <th>6</th>\n",
       "      <td>LOST</td>\n",
       "      <td>Short stay</td>\n",
       "      <td>0</td>\n",
       "      <td>0</td>\n",
       "      <td>NaN</td>\n",
       "      <td>NaN</td>\n",
       "      <td>0</td>\n",
       "    </tr>\n",
       "    <tr>\n",
       "      <th>7</th>\n",
       "      <td>LOST</td>\n",
       "      <td>Wants private accommodation</td>\n",
       "      <td>181</td>\n",
       "      <td>51</td>\n",
       "      <td>08/09/22</td>\n",
       "      <td>Entire Place</td>\n",
       "      <td>0</td>\n",
       "    </tr>\n",
       "    <tr>\n",
       "      <th>8</th>\n",
       "      <td>LOST</td>\n",
       "      <td>Low budget</td>\n",
       "      <td>100</td>\n",
       "      <td>20</td>\n",
       "      <td>NaN</td>\n",
       "      <td>NaN</td>\n",
       "      <td>2</td>\n",
       "    </tr>\n",
       "  </tbody>\n",
       "</table>\n",
       "</div>"
      ],
      "text/plain": [
       "  status                  lost_reason  budget  lease    movein     room_type  \\\n",
       "2   LOST               Not responding     121     40  31/08/22       Ensuite   \n",
       "3   LOST                   Low budget       0      0       NaN           NaN   \n",
       "6   LOST                   Short stay       0      0       NaN           NaN   \n",
       "7   LOST  Wants private accommodation     181     51  08/09/22  Entire Place   \n",
       "8   LOST                   Low budget     100     20       NaN           NaN   \n",
       "\n",
       "   stay_type  \n",
       "2          1  \n",
       "3          0  \n",
       "6          0  \n",
       "7          0  \n",
       "8          2  "
      ]
     },
     "execution_count": 23,
     "metadata": {},
     "output_type": "execute_result"
    }
   ],
   "source": [
    "df.head()"
   ]
  },
  {
   "cell_type": "code",
   "execution_count": 24,
   "metadata": {},
   "outputs": [
    {
     "data": {
      "text/html": [
       "<div>\n",
       "<style scoped>\n",
       "    .dataframe tbody tr th:only-of-type {\n",
       "        vertical-align: middle;\n",
       "    }\n",
       "\n",
       "    .dataframe tbody tr th {\n",
       "        vertical-align: top;\n",
       "    }\n",
       "\n",
       "    .dataframe thead th {\n",
       "        text-align: right;\n",
       "    }\n",
       "</style>\n",
       "<table border=\"1\" class=\"dataframe\">\n",
       "  <thead>\n",
       "    <tr style=\"text-align: right;\">\n",
       "      <th></th>\n",
       "      <th>status</th>\n",
       "      <th>lost_reason</th>\n",
       "      <th>budget</th>\n",
       "      <th>lease</th>\n",
       "      <th>movein</th>\n",
       "      <th>stay_type</th>\n",
       "    </tr>\n",
       "  </thead>\n",
       "  <tbody>\n",
       "    <tr>\n",
       "      <th>2</th>\n",
       "      <td>LOST</td>\n",
       "      <td>Not responding</td>\n",
       "      <td>121</td>\n",
       "      <td>40</td>\n",
       "      <td>31/08/22</td>\n",
       "      <td>1</td>\n",
       "    </tr>\n",
       "    <tr>\n",
       "      <th>3</th>\n",
       "      <td>LOST</td>\n",
       "      <td>Low budget</td>\n",
       "      <td>0</td>\n",
       "      <td>0</td>\n",
       "      <td>NaN</td>\n",
       "      <td>0</td>\n",
       "    </tr>\n",
       "    <tr>\n",
       "      <th>6</th>\n",
       "      <td>LOST</td>\n",
       "      <td>Short stay</td>\n",
       "      <td>0</td>\n",
       "      <td>0</td>\n",
       "      <td>NaN</td>\n",
       "      <td>0</td>\n",
       "    </tr>\n",
       "    <tr>\n",
       "      <th>7</th>\n",
       "      <td>LOST</td>\n",
       "      <td>Wants private accommodation</td>\n",
       "      <td>181</td>\n",
       "      <td>51</td>\n",
       "      <td>08/09/22</td>\n",
       "      <td>0</td>\n",
       "    </tr>\n",
       "    <tr>\n",
       "      <th>8</th>\n",
       "      <td>LOST</td>\n",
       "      <td>Low budget</td>\n",
       "      <td>100</td>\n",
       "      <td>20</td>\n",
       "      <td>NaN</td>\n",
       "      <td>2</td>\n",
       "    </tr>\n",
       "  </tbody>\n",
       "</table>\n",
       "</div>"
      ],
      "text/plain": [
       "  status                  lost_reason  budget  lease    movein  stay_type\n",
       "2   LOST               Not responding     121     40  31/08/22          1\n",
       "3   LOST                   Low budget       0      0       NaN          0\n",
       "6   LOST                   Short stay       0      0       NaN          0\n",
       "7   LOST  Wants private accommodation     181     51  08/09/22          0\n",
       "8   LOST                   Low budget     100     20       NaN          2"
      ]
     },
     "execution_count": 24,
     "metadata": {},
     "output_type": "execute_result"
    }
   ],
   "source": [
    "df=df.drop('room_type',axis=1)\n",
    "df.head()"
   ]
  },
  {
   "cell_type": "code",
   "execution_count": 25,
   "metadata": {},
   "outputs": [],
   "source": [
    "df.movein= df.movein.fillna(0)\n",
    "\n",
    "df= df[df['movein']!= 0]"
   ]
  },
  {
   "cell_type": "code",
   "execution_count": 26,
   "metadata": {},
   "outputs": [],
   "source": [
    "df.movein=pd.to_datetime(df.movein)\n",
    "df['movein_day']= df.movein.dt.day\n",
    "df['movein_month']= df.movein.dt.month\n",
    "df['movein_year']= df.movein.dt.year\n"
   ]
  },
  {
   "cell_type": "code",
   "execution_count": 27,
   "metadata": {},
   "outputs": [
    {
     "data": {
      "text/html": [
       "<div>\n",
       "<style scoped>\n",
       "    .dataframe tbody tr th:only-of-type {\n",
       "        vertical-align: middle;\n",
       "    }\n",
       "\n",
       "    .dataframe tbody tr th {\n",
       "        vertical-align: top;\n",
       "    }\n",
       "\n",
       "    .dataframe thead th {\n",
       "        text-align: right;\n",
       "    }\n",
       "</style>\n",
       "<table border=\"1\" class=\"dataframe\">\n",
       "  <thead>\n",
       "    <tr style=\"text-align: right;\">\n",
       "      <th></th>\n",
       "      <th>status</th>\n",
       "      <th>lost_reason</th>\n",
       "      <th>budget</th>\n",
       "      <th>lease</th>\n",
       "      <th>movein</th>\n",
       "      <th>stay_type</th>\n",
       "      <th>movein_day</th>\n",
       "      <th>movein_month</th>\n",
       "      <th>movein_year</th>\n",
       "    </tr>\n",
       "  </thead>\n",
       "  <tbody>\n",
       "    <tr>\n",
       "      <th>2</th>\n",
       "      <td>LOST</td>\n",
       "      <td>Not responding</td>\n",
       "      <td>121</td>\n",
       "      <td>40</td>\n",
       "      <td>2022-08-31</td>\n",
       "      <td>1</td>\n",
       "      <td>31</td>\n",
       "      <td>8</td>\n",
       "      <td>2022</td>\n",
       "    </tr>\n",
       "    <tr>\n",
       "      <th>7</th>\n",
       "      <td>LOST</td>\n",
       "      <td>Wants private accommodation</td>\n",
       "      <td>181</td>\n",
       "      <td>51</td>\n",
       "      <td>2022-08-09</td>\n",
       "      <td>0</td>\n",
       "      <td>9</td>\n",
       "      <td>8</td>\n",
       "      <td>2022</td>\n",
       "    </tr>\n",
       "    <tr>\n",
       "      <th>11</th>\n",
       "      <td>LOST</td>\n",
       "      <td>Not responding</td>\n",
       "      <td>121</td>\n",
       "      <td>40</td>\n",
       "      <td>2022-09-15</td>\n",
       "      <td>1</td>\n",
       "      <td>15</td>\n",
       "      <td>9</td>\n",
       "      <td>2022</td>\n",
       "    </tr>\n",
       "    <tr>\n",
       "      <th>12</th>\n",
       "      <td>LOST</td>\n",
       "      <td>Wants private accommodation</td>\n",
       "      <td>121</td>\n",
       "      <td>40</td>\n",
       "      <td>2022-02-09</td>\n",
       "      <td>1</td>\n",
       "      <td>9</td>\n",
       "      <td>2</td>\n",
       "      <td>2022</td>\n",
       "    </tr>\n",
       "    <tr>\n",
       "      <th>13</th>\n",
       "      <td>LOST</td>\n",
       "      <td>Not responding</td>\n",
       "      <td>181</td>\n",
       "      <td>50</td>\n",
       "      <td>2022-04-09</td>\n",
       "      <td>1</td>\n",
       "      <td>9</td>\n",
       "      <td>4</td>\n",
       "      <td>2022</td>\n",
       "    </tr>\n",
       "  </tbody>\n",
       "</table>\n",
       "</div>"
      ],
      "text/plain": [
       "   status                  lost_reason  budget  lease     movein  stay_type  \\\n",
       "2    LOST               Not responding     121     40 2022-08-31          1   \n",
       "7    LOST  Wants private accommodation     181     51 2022-08-09          0   \n",
       "11   LOST               Not responding     121     40 2022-09-15          1   \n",
       "12   LOST  Wants private accommodation     121     40 2022-02-09          1   \n",
       "13   LOST               Not responding     181     50 2022-04-09          1   \n",
       "\n",
       "    movein_day  movein_month  movein_year  \n",
       "2           31             8         2022  \n",
       "7            9             8         2022  \n",
       "11          15             9         2022  \n",
       "12           9             2         2022  \n",
       "13           9             4         2022  "
      ]
     },
     "execution_count": 27,
     "metadata": {},
     "output_type": "execute_result"
    }
   ],
   "source": [
    "df.head()"
   ]
  },
  {
   "cell_type": "code",
   "execution_count": 28,
   "metadata": {},
   "outputs": [
    {
     "data": {
      "text/html": [
       "<div>\n",
       "<style scoped>\n",
       "    .dataframe tbody tr th:only-of-type {\n",
       "        vertical-align: middle;\n",
       "    }\n",
       "\n",
       "    .dataframe tbody tr th {\n",
       "        vertical-align: top;\n",
       "    }\n",
       "\n",
       "    .dataframe thead th {\n",
       "        text-align: right;\n",
       "    }\n",
       "</style>\n",
       "<table border=\"1\" class=\"dataframe\">\n",
       "  <thead>\n",
       "    <tr style=\"text-align: right;\">\n",
       "      <th></th>\n",
       "      <th>status</th>\n",
       "      <th>lost_reason</th>\n",
       "      <th>budget</th>\n",
       "      <th>lease</th>\n",
       "      <th>stay_type</th>\n",
       "      <th>movein_day</th>\n",
       "      <th>movein_month</th>\n",
       "      <th>movein_year</th>\n",
       "    </tr>\n",
       "  </thead>\n",
       "  <tbody>\n",
       "    <tr>\n",
       "      <th>0</th>\n",
       "      <td>LOST</td>\n",
       "      <td>Not responding</td>\n",
       "      <td>121</td>\n",
       "      <td>40</td>\n",
       "      <td>1</td>\n",
       "      <td>31</td>\n",
       "      <td>8</td>\n",
       "      <td>2022</td>\n",
       "    </tr>\n",
       "    <tr>\n",
       "      <th>1</th>\n",
       "      <td>LOST</td>\n",
       "      <td>Wants private accommodation</td>\n",
       "      <td>181</td>\n",
       "      <td>51</td>\n",
       "      <td>0</td>\n",
       "      <td>9</td>\n",
       "      <td>8</td>\n",
       "      <td>2022</td>\n",
       "    </tr>\n",
       "    <tr>\n",
       "      <th>2</th>\n",
       "      <td>LOST</td>\n",
       "      <td>Not responding</td>\n",
       "      <td>121</td>\n",
       "      <td>40</td>\n",
       "      <td>1</td>\n",
       "      <td>15</td>\n",
       "      <td>9</td>\n",
       "      <td>2022</td>\n",
       "    </tr>\n",
       "    <tr>\n",
       "      <th>3</th>\n",
       "      <td>LOST</td>\n",
       "      <td>Wants private accommodation</td>\n",
       "      <td>121</td>\n",
       "      <td>40</td>\n",
       "      <td>1</td>\n",
       "      <td>9</td>\n",
       "      <td>2</td>\n",
       "      <td>2022</td>\n",
       "    </tr>\n",
       "    <tr>\n",
       "      <th>4</th>\n",
       "      <td>LOST</td>\n",
       "      <td>Not responding</td>\n",
       "      <td>181</td>\n",
       "      <td>50</td>\n",
       "      <td>1</td>\n",
       "      <td>9</td>\n",
       "      <td>4</td>\n",
       "      <td>2022</td>\n",
       "    </tr>\n",
       "  </tbody>\n",
       "</table>\n",
       "</div>"
      ],
      "text/plain": [
       "  status                  lost_reason  budget  lease  stay_type  movein_day  \\\n",
       "0   LOST               Not responding     121     40          1          31   \n",
       "1   LOST  Wants private accommodation     181     51          0           9   \n",
       "2   LOST               Not responding     121     40          1          15   \n",
       "3   LOST  Wants private accommodation     121     40          1           9   \n",
       "4   LOST               Not responding     181     50          1           9   \n",
       "\n",
       "   movein_month  movein_year  \n",
       "0             8         2022  \n",
       "1             8         2022  \n",
       "2             9         2022  \n",
       "3             2         2022  \n",
       "4             4         2022  "
      ]
     },
     "execution_count": 28,
     "metadata": {},
     "output_type": "execute_result"
    }
   ],
   "source": [
    "df= df.drop('movein',axis=1)\n",
    "df.reset_index(drop= True, inplace= True)\n",
    "\n",
    "df['movein_day']=df['movein_day'].astype(int)\n",
    "df['movein_month']=df['movein_month'].astype(int)\n",
    "df['movein_year']=df['movein_year'].astype(int)\n",
    "df.head()"
   ]
  },
  {
   "cell_type": "code",
   "execution_count": 29,
   "metadata": {},
   "outputs": [
    {
     "name": "stdout",
     "output_type": "stream",
     "text": [
      "<class 'pandas.core.frame.DataFrame'>\n",
      "RangeIndex: 26909 entries, 0 to 26908\n",
      "Data columns (total 8 columns):\n",
      " #   Column        Non-Null Count  Dtype \n",
      "---  ------        --------------  ----- \n",
      " 0   status        26909 non-null  object\n",
      " 1   lost_reason   24663 non-null  object\n",
      " 2   budget        26909 non-null  int32 \n",
      " 3   lease         26909 non-null  int32 \n",
      " 4   stay_type     26909 non-null  int32 \n",
      " 5   movein_day    26909 non-null  int32 \n",
      " 6   movein_month  26909 non-null  int32 \n",
      " 7   movein_year   26909 non-null  int32 \n",
      "dtypes: int32(6), object(2)\n",
      "memory usage: 1.0+ MB\n"
     ]
    }
   ],
   "source": [
    "df.info()"
   ]
  },
  {
   "cell_type": "markdown",
   "metadata": {},
   "source": [
    "# Treating Missing Values"
   ]
  },
  {
   "cell_type": "code",
   "execution_count": 30,
   "metadata": {},
   "outputs": [
    {
     "data": {
      "text/plain": [
       "status             0\n",
       "lost_reason     2246\n",
       "budget             0\n",
       "lease              0\n",
       "stay_type          0\n",
       "movein_day         0\n",
       "movein_month       0\n",
       "movein_year        0\n",
       "dtype: int64"
      ]
     },
     "execution_count": 30,
     "metadata": {},
     "output_type": "execute_result"
    }
   ],
   "source": [
    "df.isnull().sum()"
   ]
  },
  {
   "cell_type": "code",
   "execution_count": 31,
   "metadata": {},
   "outputs": [
    {
     "data": {
      "text/html": [
       "<div>\n",
       "<style scoped>\n",
       "    .dataframe tbody tr th:only-of-type {\n",
       "        vertical-align: middle;\n",
       "    }\n",
       "\n",
       "    .dataframe tbody tr th {\n",
       "        vertical-align: top;\n",
       "    }\n",
       "\n",
       "    .dataframe thead th {\n",
       "        text-align: right;\n",
       "    }\n",
       "</style>\n",
       "<table border=\"1\" class=\"dataframe\">\n",
       "  <thead>\n",
       "    <tr style=\"text-align: right;\">\n",
       "      <th></th>\n",
       "      <th>status</th>\n",
       "      <th>lost_reason</th>\n",
       "      <th>budget</th>\n",
       "      <th>lease</th>\n",
       "      <th>stay_type</th>\n",
       "      <th>movein_day</th>\n",
       "      <th>movein_month</th>\n",
       "      <th>movein_year</th>\n",
       "    </tr>\n",
       "  </thead>\n",
       "  <tbody>\n",
       "    <tr>\n",
       "      <th>24663</th>\n",
       "      <td>WON</td>\n",
       "      <td>NaN</td>\n",
       "      <td>121</td>\n",
       "      <td>40</td>\n",
       "      <td>1</td>\n",
       "      <td>9</td>\n",
       "      <td>9</td>\n",
       "      <td>2022</td>\n",
       "    </tr>\n",
       "    <tr>\n",
       "      <th>24664</th>\n",
       "      <td>WON</td>\n",
       "      <td>NaN</td>\n",
       "      <td>181</td>\n",
       "      <td>40</td>\n",
       "      <td>1</td>\n",
       "      <td>29</td>\n",
       "      <td>9</td>\n",
       "      <td>2022</td>\n",
       "    </tr>\n",
       "    <tr>\n",
       "      <th>24665</th>\n",
       "      <td>WON</td>\n",
       "      <td>NaN</td>\n",
       "      <td>121</td>\n",
       "      <td>40</td>\n",
       "      <td>1</td>\n",
       "      <td>31</td>\n",
       "      <td>8</td>\n",
       "      <td>2022</td>\n",
       "    </tr>\n",
       "    <tr>\n",
       "      <th>24666</th>\n",
       "      <td>WON</td>\n",
       "      <td>NaN</td>\n",
       "      <td>121</td>\n",
       "      <td>50</td>\n",
       "      <td>1</td>\n",
       "      <td>7</td>\n",
       "      <td>10</td>\n",
       "      <td>2022</td>\n",
       "    </tr>\n",
       "    <tr>\n",
       "      <th>24667</th>\n",
       "      <td>WON</td>\n",
       "      <td>NaN</td>\n",
       "      <td>121</td>\n",
       "      <td>50</td>\n",
       "      <td>1</td>\n",
       "      <td>22</td>\n",
       "      <td>9</td>\n",
       "      <td>2022</td>\n",
       "    </tr>\n",
       "    <tr>\n",
       "      <th>...</th>\n",
       "      <td>...</td>\n",
       "      <td>...</td>\n",
       "      <td>...</td>\n",
       "      <td>...</td>\n",
       "      <td>...</td>\n",
       "      <td>...</td>\n",
       "      <td>...</td>\n",
       "      <td>...</td>\n",
       "    </tr>\n",
       "    <tr>\n",
       "      <th>26904</th>\n",
       "      <td>WON</td>\n",
       "      <td>NaN</td>\n",
       "      <td>139</td>\n",
       "      <td>42</td>\n",
       "      <td>0</td>\n",
       "      <td>10</td>\n",
       "      <td>1</td>\n",
       "      <td>2022</td>\n",
       "    </tr>\n",
       "    <tr>\n",
       "      <th>26905</th>\n",
       "      <td>WON</td>\n",
       "      <td>NaN</td>\n",
       "      <td>179</td>\n",
       "      <td>51</td>\n",
       "      <td>0</td>\n",
       "      <td>9</td>\n",
       "      <td>10</td>\n",
       "      <td>2022</td>\n",
       "    </tr>\n",
       "    <tr>\n",
       "      <th>26906</th>\n",
       "      <td>WON</td>\n",
       "      <td>NaN</td>\n",
       "      <td>180</td>\n",
       "      <td>44</td>\n",
       "      <td>0</td>\n",
       "      <td>16</td>\n",
       "      <td>9</td>\n",
       "      <td>2022</td>\n",
       "    </tr>\n",
       "    <tr>\n",
       "      <th>26907</th>\n",
       "      <td>WON</td>\n",
       "      <td>NaN</td>\n",
       "      <td>121</td>\n",
       "      <td>50</td>\n",
       "      <td>1</td>\n",
       "      <td>9</td>\n",
       "      <td>5</td>\n",
       "      <td>2022</td>\n",
       "    </tr>\n",
       "    <tr>\n",
       "      <th>26908</th>\n",
       "      <td>WON</td>\n",
       "      <td>NaN</td>\n",
       "      <td>60</td>\n",
       "      <td>40</td>\n",
       "      <td>1</td>\n",
       "      <td>9</td>\n",
       "      <td>12</td>\n",
       "      <td>2022</td>\n",
       "    </tr>\n",
       "  </tbody>\n",
       "</table>\n",
       "<p>2246 rows × 8 columns</p>\n",
       "</div>"
      ],
      "text/plain": [
       "      status lost_reason  budget  lease  stay_type  movein_day  movein_month  \\\n",
       "24663    WON         NaN     121     40          1           9             9   \n",
       "24664    WON         NaN     181     40          1          29             9   \n",
       "24665    WON         NaN     121     40          1          31             8   \n",
       "24666    WON         NaN     121     50          1           7            10   \n",
       "24667    WON         NaN     121     50          1          22             9   \n",
       "...      ...         ...     ...    ...        ...         ...           ...   \n",
       "26904    WON         NaN     139     42          0          10             1   \n",
       "26905    WON         NaN     179     51          0           9            10   \n",
       "26906    WON         NaN     180     44          0          16             9   \n",
       "26907    WON         NaN     121     50          1           9             5   \n",
       "26908    WON         NaN      60     40          1           9            12   \n",
       "\n",
       "       movein_year  \n",
       "24663         2022  \n",
       "24664         2022  \n",
       "24665         2022  \n",
       "24666         2022  \n",
       "24667         2022  \n",
       "...            ...  \n",
       "26904         2022  \n",
       "26905         2022  \n",
       "26906         2022  \n",
       "26907         2022  \n",
       "26908         2022  \n",
       "\n",
       "[2246 rows x 8 columns]"
      ]
     },
     "execution_count": 31,
     "metadata": {},
     "output_type": "execute_result"
    }
   ],
   "source": [
    "df[df.lost_reason.isnull()]"
   ]
  },
  {
   "cell_type": "code",
   "execution_count": 32,
   "metadata": {},
   "outputs": [],
   "source": [
    "df.lost_reason= df.lost_reason.fillna('no lost reason')"
   ]
  },
  {
   "cell_type": "code",
   "execution_count": 33,
   "metadata": {},
   "outputs": [
    {
     "data": {
      "text/plain": [
       "status          0\n",
       "lost_reason     0\n",
       "budget          0\n",
       "lease           0\n",
       "stay_type       0\n",
       "movein_day      0\n",
       "movein_month    0\n",
       "movein_year     0\n",
       "dtype: int64"
      ]
     },
     "execution_count": 33,
     "metadata": {},
     "output_type": "execute_result"
    }
   ],
   "source": [
    "df.isnull().sum()"
   ]
  },
  {
   "cell_type": "markdown",
   "metadata": {},
   "source": [
    "# Mapping Status Column"
   ]
  },
  {
   "cell_type": "code",
   "execution_count": 34,
   "metadata": {},
   "outputs": [
    {
     "data": {
      "text/html": [
       "<div>\n",
       "<style scoped>\n",
       "    .dataframe tbody tr th:only-of-type {\n",
       "        vertical-align: middle;\n",
       "    }\n",
       "\n",
       "    .dataframe tbody tr th {\n",
       "        vertical-align: top;\n",
       "    }\n",
       "\n",
       "    .dataframe thead th {\n",
       "        text-align: right;\n",
       "    }\n",
       "</style>\n",
       "<table border=\"1\" class=\"dataframe\">\n",
       "  <thead>\n",
       "    <tr style=\"text-align: right;\">\n",
       "      <th></th>\n",
       "      <th>status</th>\n",
       "      <th>lost_reason</th>\n",
       "      <th>budget</th>\n",
       "      <th>lease</th>\n",
       "      <th>stay_type</th>\n",
       "      <th>movein_day</th>\n",
       "      <th>movein_month</th>\n",
       "      <th>movein_year</th>\n",
       "    </tr>\n",
       "  </thead>\n",
       "  <tbody>\n",
       "    <tr>\n",
       "      <th>0</th>\n",
       "      <td>0</td>\n",
       "      <td>Not responding</td>\n",
       "      <td>121</td>\n",
       "      <td>40</td>\n",
       "      <td>1</td>\n",
       "      <td>31</td>\n",
       "      <td>8</td>\n",
       "      <td>2022</td>\n",
       "    </tr>\n",
       "    <tr>\n",
       "      <th>1</th>\n",
       "      <td>0</td>\n",
       "      <td>Wants private accommodation</td>\n",
       "      <td>181</td>\n",
       "      <td>51</td>\n",
       "      <td>0</td>\n",
       "      <td>9</td>\n",
       "      <td>8</td>\n",
       "      <td>2022</td>\n",
       "    </tr>\n",
       "    <tr>\n",
       "      <th>2</th>\n",
       "      <td>0</td>\n",
       "      <td>Not responding</td>\n",
       "      <td>121</td>\n",
       "      <td>40</td>\n",
       "      <td>1</td>\n",
       "      <td>15</td>\n",
       "      <td>9</td>\n",
       "      <td>2022</td>\n",
       "    </tr>\n",
       "    <tr>\n",
       "      <th>3</th>\n",
       "      <td>0</td>\n",
       "      <td>Wants private accommodation</td>\n",
       "      <td>121</td>\n",
       "      <td>40</td>\n",
       "      <td>1</td>\n",
       "      <td>9</td>\n",
       "      <td>2</td>\n",
       "      <td>2022</td>\n",
       "    </tr>\n",
       "    <tr>\n",
       "      <th>4</th>\n",
       "      <td>0</td>\n",
       "      <td>Not responding</td>\n",
       "      <td>181</td>\n",
       "      <td>50</td>\n",
       "      <td>1</td>\n",
       "      <td>9</td>\n",
       "      <td>4</td>\n",
       "      <td>2022</td>\n",
       "    </tr>\n",
       "  </tbody>\n",
       "</table>\n",
       "</div>"
      ],
      "text/plain": [
       "   status                  lost_reason  budget  lease  stay_type  movein_day  \\\n",
       "0       0               Not responding     121     40          1          31   \n",
       "1       0  Wants private accommodation     181     51          0           9   \n",
       "2       0               Not responding     121     40          1          15   \n",
       "3       0  Wants private accommodation     121     40          1           9   \n",
       "4       0               Not responding     181     50          1           9   \n",
       "\n",
       "   movein_month  movein_year  \n",
       "0             8         2022  \n",
       "1             8         2022  \n",
       "2             9         2022  \n",
       "3             2         2022  \n",
       "4             4         2022  "
      ]
     },
     "execution_count": 34,
     "metadata": {},
     "output_type": "execute_result"
    }
   ],
   "source": [
    "df.status= df['status'].map({'LOST':0,'WON':1})\n",
    "df.status=df.status.astype(int)\n",
    "df.head()"
   ]
  },
  {
   "cell_type": "markdown",
   "metadata": {},
   "source": [
    "# OneHotEncoding"
   ]
  },
  {
   "cell_type": "code",
   "execution_count": 35,
   "metadata": {},
   "outputs": [],
   "source": [
    "ohe= OneHotEncoder(drop= 'first')"
   ]
  },
  {
   "cell_type": "code",
   "execution_count": 36,
   "metadata": {},
   "outputs": [],
   "source": [
    "z=ohe.fit_transform(df[['lost_reason']])"
   ]
  },
  {
   "cell_type": "code",
   "execution_count": 37,
   "metadata": {},
   "outputs": [],
   "source": [
    "z=pd.DataFrame(z.toarray())\n",
    "z.columns= [ 'Booked with competitor',\n",
    "       'Booked with manager', 'Cross sell', \"Didn't respond in time\",\n",
    "       'Distance issue', 'Guarantor issue', 'Inadequate details',\n",
    "       'Junk lead', 'Junk lead/ Just Enquiring', 'Just Enquiring',\n",
    "       'Lead issue', 'Looking for Scholarship', 'Looking for admission',\n",
    "       'Looking for loan', 'Low availability', 'Low budget', 'No supply',\n",
    "       'Not a student', 'Not going to university', 'Not interested',\n",
    "       'Not responding', 'Not serving in that region', 'Repeat lead',\n",
    "       'Semester stay', 'Short stay', 'Supply issue', 'Underage student',\n",
    "       'Visa/admission denied', 'Wants private accommodation',\n",
    "       'no lost reason']"
   ]
  },
  {
   "cell_type": "code",
   "execution_count": 38,
   "metadata": {},
   "outputs": [
    {
     "data": {
      "text/html": [
       "<div>\n",
       "<style scoped>\n",
       "    .dataframe tbody tr th:only-of-type {\n",
       "        vertical-align: middle;\n",
       "    }\n",
       "\n",
       "    .dataframe tbody tr th {\n",
       "        vertical-align: top;\n",
       "    }\n",
       "\n",
       "    .dataframe thead th {\n",
       "        text-align: right;\n",
       "    }\n",
       "</style>\n",
       "<table border=\"1\" class=\"dataframe\">\n",
       "  <thead>\n",
       "    <tr style=\"text-align: right;\">\n",
       "      <th></th>\n",
       "      <th>status</th>\n",
       "      <th>lost_reason</th>\n",
       "      <th>budget</th>\n",
       "      <th>lease</th>\n",
       "      <th>stay_type</th>\n",
       "      <th>movein_day</th>\n",
       "      <th>movein_month</th>\n",
       "      <th>movein_year</th>\n",
       "      <th>Booked with competitor</th>\n",
       "      <th>Booked with manager</th>\n",
       "      <th>...</th>\n",
       "      <th>Not responding</th>\n",
       "      <th>Not serving in that region</th>\n",
       "      <th>Repeat lead</th>\n",
       "      <th>Semester stay</th>\n",
       "      <th>Short stay</th>\n",
       "      <th>Supply issue</th>\n",
       "      <th>Underage student</th>\n",
       "      <th>Visa/admission denied</th>\n",
       "      <th>Wants private accommodation</th>\n",
       "      <th>no lost reason</th>\n",
       "    </tr>\n",
       "  </thead>\n",
       "  <tbody>\n",
       "    <tr>\n",
       "      <th>0</th>\n",
       "      <td>0</td>\n",
       "      <td>Not responding</td>\n",
       "      <td>121</td>\n",
       "      <td>40</td>\n",
       "      <td>1</td>\n",
       "      <td>31</td>\n",
       "      <td>8</td>\n",
       "      <td>2022</td>\n",
       "      <td>0.0</td>\n",
       "      <td>0.0</td>\n",
       "      <td>...</td>\n",
       "      <td>1.0</td>\n",
       "      <td>0.0</td>\n",
       "      <td>0.0</td>\n",
       "      <td>0.0</td>\n",
       "      <td>0.0</td>\n",
       "      <td>0.0</td>\n",
       "      <td>0.0</td>\n",
       "      <td>0.0</td>\n",
       "      <td>0.0</td>\n",
       "      <td>0.0</td>\n",
       "    </tr>\n",
       "    <tr>\n",
       "      <th>1</th>\n",
       "      <td>0</td>\n",
       "      <td>Wants private accommodation</td>\n",
       "      <td>181</td>\n",
       "      <td>51</td>\n",
       "      <td>0</td>\n",
       "      <td>9</td>\n",
       "      <td>8</td>\n",
       "      <td>2022</td>\n",
       "      <td>0.0</td>\n",
       "      <td>0.0</td>\n",
       "      <td>...</td>\n",
       "      <td>0.0</td>\n",
       "      <td>0.0</td>\n",
       "      <td>0.0</td>\n",
       "      <td>0.0</td>\n",
       "      <td>0.0</td>\n",
       "      <td>0.0</td>\n",
       "      <td>0.0</td>\n",
       "      <td>0.0</td>\n",
       "      <td>1.0</td>\n",
       "      <td>0.0</td>\n",
       "    </tr>\n",
       "    <tr>\n",
       "      <th>2</th>\n",
       "      <td>0</td>\n",
       "      <td>Not responding</td>\n",
       "      <td>121</td>\n",
       "      <td>40</td>\n",
       "      <td>1</td>\n",
       "      <td>15</td>\n",
       "      <td>9</td>\n",
       "      <td>2022</td>\n",
       "      <td>0.0</td>\n",
       "      <td>0.0</td>\n",
       "      <td>...</td>\n",
       "      <td>1.0</td>\n",
       "      <td>0.0</td>\n",
       "      <td>0.0</td>\n",
       "      <td>0.0</td>\n",
       "      <td>0.0</td>\n",
       "      <td>0.0</td>\n",
       "      <td>0.0</td>\n",
       "      <td>0.0</td>\n",
       "      <td>0.0</td>\n",
       "      <td>0.0</td>\n",
       "    </tr>\n",
       "    <tr>\n",
       "      <th>3</th>\n",
       "      <td>0</td>\n",
       "      <td>Wants private accommodation</td>\n",
       "      <td>121</td>\n",
       "      <td>40</td>\n",
       "      <td>1</td>\n",
       "      <td>9</td>\n",
       "      <td>2</td>\n",
       "      <td>2022</td>\n",
       "      <td>0.0</td>\n",
       "      <td>0.0</td>\n",
       "      <td>...</td>\n",
       "      <td>0.0</td>\n",
       "      <td>0.0</td>\n",
       "      <td>0.0</td>\n",
       "      <td>0.0</td>\n",
       "      <td>0.0</td>\n",
       "      <td>0.0</td>\n",
       "      <td>0.0</td>\n",
       "      <td>0.0</td>\n",
       "      <td>1.0</td>\n",
       "      <td>0.0</td>\n",
       "    </tr>\n",
       "    <tr>\n",
       "      <th>4</th>\n",
       "      <td>0</td>\n",
       "      <td>Not responding</td>\n",
       "      <td>181</td>\n",
       "      <td>50</td>\n",
       "      <td>1</td>\n",
       "      <td>9</td>\n",
       "      <td>4</td>\n",
       "      <td>2022</td>\n",
       "      <td>0.0</td>\n",
       "      <td>0.0</td>\n",
       "      <td>...</td>\n",
       "      <td>1.0</td>\n",
       "      <td>0.0</td>\n",
       "      <td>0.0</td>\n",
       "      <td>0.0</td>\n",
       "      <td>0.0</td>\n",
       "      <td>0.0</td>\n",
       "      <td>0.0</td>\n",
       "      <td>0.0</td>\n",
       "      <td>0.0</td>\n",
       "      <td>0.0</td>\n",
       "    </tr>\n",
       "    <tr>\n",
       "      <th>...</th>\n",
       "      <td>...</td>\n",
       "      <td>...</td>\n",
       "      <td>...</td>\n",
       "      <td>...</td>\n",
       "      <td>...</td>\n",
       "      <td>...</td>\n",
       "      <td>...</td>\n",
       "      <td>...</td>\n",
       "      <td>...</td>\n",
       "      <td>...</td>\n",
       "      <td>...</td>\n",
       "      <td>...</td>\n",
       "      <td>...</td>\n",
       "      <td>...</td>\n",
       "      <td>...</td>\n",
       "      <td>...</td>\n",
       "      <td>...</td>\n",
       "      <td>...</td>\n",
       "      <td>...</td>\n",
       "      <td>...</td>\n",
       "      <td>...</td>\n",
       "    </tr>\n",
       "    <tr>\n",
       "      <th>26904</th>\n",
       "      <td>1</td>\n",
       "      <td>no lost reason</td>\n",
       "      <td>139</td>\n",
       "      <td>42</td>\n",
       "      <td>0</td>\n",
       "      <td>10</td>\n",
       "      <td>1</td>\n",
       "      <td>2022</td>\n",
       "      <td>0.0</td>\n",
       "      <td>0.0</td>\n",
       "      <td>...</td>\n",
       "      <td>0.0</td>\n",
       "      <td>0.0</td>\n",
       "      <td>0.0</td>\n",
       "      <td>0.0</td>\n",
       "      <td>0.0</td>\n",
       "      <td>0.0</td>\n",
       "      <td>0.0</td>\n",
       "      <td>0.0</td>\n",
       "      <td>0.0</td>\n",
       "      <td>1.0</td>\n",
       "    </tr>\n",
       "    <tr>\n",
       "      <th>26905</th>\n",
       "      <td>1</td>\n",
       "      <td>no lost reason</td>\n",
       "      <td>179</td>\n",
       "      <td>51</td>\n",
       "      <td>0</td>\n",
       "      <td>9</td>\n",
       "      <td>10</td>\n",
       "      <td>2022</td>\n",
       "      <td>0.0</td>\n",
       "      <td>0.0</td>\n",
       "      <td>...</td>\n",
       "      <td>0.0</td>\n",
       "      <td>0.0</td>\n",
       "      <td>0.0</td>\n",
       "      <td>0.0</td>\n",
       "      <td>0.0</td>\n",
       "      <td>0.0</td>\n",
       "      <td>0.0</td>\n",
       "      <td>0.0</td>\n",
       "      <td>0.0</td>\n",
       "      <td>1.0</td>\n",
       "    </tr>\n",
       "    <tr>\n",
       "      <th>26906</th>\n",
       "      <td>1</td>\n",
       "      <td>no lost reason</td>\n",
       "      <td>180</td>\n",
       "      <td>44</td>\n",
       "      <td>0</td>\n",
       "      <td>16</td>\n",
       "      <td>9</td>\n",
       "      <td>2022</td>\n",
       "      <td>0.0</td>\n",
       "      <td>0.0</td>\n",
       "      <td>...</td>\n",
       "      <td>0.0</td>\n",
       "      <td>0.0</td>\n",
       "      <td>0.0</td>\n",
       "      <td>0.0</td>\n",
       "      <td>0.0</td>\n",
       "      <td>0.0</td>\n",
       "      <td>0.0</td>\n",
       "      <td>0.0</td>\n",
       "      <td>0.0</td>\n",
       "      <td>1.0</td>\n",
       "    </tr>\n",
       "    <tr>\n",
       "      <th>26907</th>\n",
       "      <td>1</td>\n",
       "      <td>no lost reason</td>\n",
       "      <td>121</td>\n",
       "      <td>50</td>\n",
       "      <td>1</td>\n",
       "      <td>9</td>\n",
       "      <td>5</td>\n",
       "      <td>2022</td>\n",
       "      <td>0.0</td>\n",
       "      <td>0.0</td>\n",
       "      <td>...</td>\n",
       "      <td>0.0</td>\n",
       "      <td>0.0</td>\n",
       "      <td>0.0</td>\n",
       "      <td>0.0</td>\n",
       "      <td>0.0</td>\n",
       "      <td>0.0</td>\n",
       "      <td>0.0</td>\n",
       "      <td>0.0</td>\n",
       "      <td>0.0</td>\n",
       "      <td>1.0</td>\n",
       "    </tr>\n",
       "    <tr>\n",
       "      <th>26908</th>\n",
       "      <td>1</td>\n",
       "      <td>no lost reason</td>\n",
       "      <td>60</td>\n",
       "      <td>40</td>\n",
       "      <td>1</td>\n",
       "      <td>9</td>\n",
       "      <td>12</td>\n",
       "      <td>2022</td>\n",
       "      <td>0.0</td>\n",
       "      <td>0.0</td>\n",
       "      <td>...</td>\n",
       "      <td>0.0</td>\n",
       "      <td>0.0</td>\n",
       "      <td>0.0</td>\n",
       "      <td>0.0</td>\n",
       "      <td>0.0</td>\n",
       "      <td>0.0</td>\n",
       "      <td>0.0</td>\n",
       "      <td>0.0</td>\n",
       "      <td>0.0</td>\n",
       "      <td>1.0</td>\n",
       "    </tr>\n",
       "  </tbody>\n",
       "</table>\n",
       "<p>26909 rows × 38 columns</p>\n",
       "</div>"
      ],
      "text/plain": [
       "       status                  lost_reason  budget  lease  stay_type  \\\n",
       "0           0               Not responding     121     40          1   \n",
       "1           0  Wants private accommodation     181     51          0   \n",
       "2           0               Not responding     121     40          1   \n",
       "3           0  Wants private accommodation     121     40          1   \n",
       "4           0               Not responding     181     50          1   \n",
       "...       ...                          ...     ...    ...        ...   \n",
       "26904       1               no lost reason     139     42          0   \n",
       "26905       1               no lost reason     179     51          0   \n",
       "26906       1               no lost reason     180     44          0   \n",
       "26907       1               no lost reason     121     50          1   \n",
       "26908       1               no lost reason      60     40          1   \n",
       "\n",
       "       movein_day  movein_month  movein_year  Booked with competitor  \\\n",
       "0              31             8         2022                     0.0   \n",
       "1               9             8         2022                     0.0   \n",
       "2              15             9         2022                     0.0   \n",
       "3               9             2         2022                     0.0   \n",
       "4               9             4         2022                     0.0   \n",
       "...           ...           ...          ...                     ...   \n",
       "26904          10             1         2022                     0.0   \n",
       "26905           9            10         2022                     0.0   \n",
       "26906          16             9         2022                     0.0   \n",
       "26907           9             5         2022                     0.0   \n",
       "26908           9            12         2022                     0.0   \n",
       "\n",
       "       Booked with manager  ...  Not responding  Not serving in that region  \\\n",
       "0                      0.0  ...             1.0                         0.0   \n",
       "1                      0.0  ...             0.0                         0.0   \n",
       "2                      0.0  ...             1.0                         0.0   \n",
       "3                      0.0  ...             0.0                         0.0   \n",
       "4                      0.0  ...             1.0                         0.0   \n",
       "...                    ...  ...             ...                         ...   \n",
       "26904                  0.0  ...             0.0                         0.0   \n",
       "26905                  0.0  ...             0.0                         0.0   \n",
       "26906                  0.0  ...             0.0                         0.0   \n",
       "26907                  0.0  ...             0.0                         0.0   \n",
       "26908                  0.0  ...             0.0                         0.0   \n",
       "\n",
       "       Repeat lead  Semester stay  Short stay  Supply issue  Underage student  \\\n",
       "0              0.0            0.0         0.0           0.0               0.0   \n",
       "1              0.0            0.0         0.0           0.0               0.0   \n",
       "2              0.0            0.0         0.0           0.0               0.0   \n",
       "3              0.0            0.0         0.0           0.0               0.0   \n",
       "4              0.0            0.0         0.0           0.0               0.0   \n",
       "...            ...            ...         ...           ...               ...   \n",
       "26904          0.0            0.0         0.0           0.0               0.0   \n",
       "26905          0.0            0.0         0.0           0.0               0.0   \n",
       "26906          0.0            0.0         0.0           0.0               0.0   \n",
       "26907          0.0            0.0         0.0           0.0               0.0   \n",
       "26908          0.0            0.0         0.0           0.0               0.0   \n",
       "\n",
       "       Visa/admission denied  Wants private accommodation  no lost reason  \n",
       "0                        0.0                          0.0             0.0  \n",
       "1                        0.0                          1.0             0.0  \n",
       "2                        0.0                          0.0             0.0  \n",
       "3                        0.0                          1.0             0.0  \n",
       "4                        0.0                          0.0             0.0  \n",
       "...                      ...                          ...             ...  \n",
       "26904                    0.0                          0.0             1.0  \n",
       "26905                    0.0                          0.0             1.0  \n",
       "26906                    0.0                          0.0             1.0  \n",
       "26907                    0.0                          0.0             1.0  \n",
       "26908                    0.0                          0.0             1.0  \n",
       "\n",
       "[26909 rows x 38 columns]"
      ]
     },
     "execution_count": 38,
     "metadata": {},
     "output_type": "execute_result"
    }
   ],
   "source": [
    "df1= pd.concat([df,z],axis=1)\n",
    "df1"
   ]
  },
  {
   "cell_type": "code",
   "execution_count": 39,
   "metadata": {},
   "outputs": [
    {
     "data": {
      "text/html": [
       "<div>\n",
       "<style scoped>\n",
       "    .dataframe tbody tr th:only-of-type {\n",
       "        vertical-align: middle;\n",
       "    }\n",
       "\n",
       "    .dataframe tbody tr th {\n",
       "        vertical-align: top;\n",
       "    }\n",
       "\n",
       "    .dataframe thead th {\n",
       "        text-align: right;\n",
       "    }\n",
       "</style>\n",
       "<table border=\"1\" class=\"dataframe\">\n",
       "  <thead>\n",
       "    <tr style=\"text-align: right;\">\n",
       "      <th></th>\n",
       "      <th>status</th>\n",
       "      <th>budget</th>\n",
       "      <th>lease</th>\n",
       "      <th>stay_type</th>\n",
       "      <th>movein_day</th>\n",
       "      <th>movein_month</th>\n",
       "      <th>movein_year</th>\n",
       "      <th>Booked with competitor</th>\n",
       "      <th>Booked with manager</th>\n",
       "      <th>Cross sell</th>\n",
       "      <th>...</th>\n",
       "      <th>Not responding</th>\n",
       "      <th>Not serving in that region</th>\n",
       "      <th>Repeat lead</th>\n",
       "      <th>Semester stay</th>\n",
       "      <th>Short stay</th>\n",
       "      <th>Supply issue</th>\n",
       "      <th>Underage student</th>\n",
       "      <th>Visa/admission denied</th>\n",
       "      <th>Wants private accommodation</th>\n",
       "      <th>no lost reason</th>\n",
       "    </tr>\n",
       "  </thead>\n",
       "  <tbody>\n",
       "    <tr>\n",
       "      <th>0</th>\n",
       "      <td>0</td>\n",
       "      <td>121</td>\n",
       "      <td>40</td>\n",
       "      <td>1</td>\n",
       "      <td>31</td>\n",
       "      <td>8</td>\n",
       "      <td>2022</td>\n",
       "      <td>0.0</td>\n",
       "      <td>0.0</td>\n",
       "      <td>0.0</td>\n",
       "      <td>...</td>\n",
       "      <td>1.0</td>\n",
       "      <td>0.0</td>\n",
       "      <td>0.0</td>\n",
       "      <td>0.0</td>\n",
       "      <td>0.0</td>\n",
       "      <td>0.0</td>\n",
       "      <td>0.0</td>\n",
       "      <td>0.0</td>\n",
       "      <td>0.0</td>\n",
       "      <td>0.0</td>\n",
       "    </tr>\n",
       "    <tr>\n",
       "      <th>1</th>\n",
       "      <td>0</td>\n",
       "      <td>181</td>\n",
       "      <td>51</td>\n",
       "      <td>0</td>\n",
       "      <td>9</td>\n",
       "      <td>8</td>\n",
       "      <td>2022</td>\n",
       "      <td>0.0</td>\n",
       "      <td>0.0</td>\n",
       "      <td>0.0</td>\n",
       "      <td>...</td>\n",
       "      <td>0.0</td>\n",
       "      <td>0.0</td>\n",
       "      <td>0.0</td>\n",
       "      <td>0.0</td>\n",
       "      <td>0.0</td>\n",
       "      <td>0.0</td>\n",
       "      <td>0.0</td>\n",
       "      <td>0.0</td>\n",
       "      <td>1.0</td>\n",
       "      <td>0.0</td>\n",
       "    </tr>\n",
       "    <tr>\n",
       "      <th>2</th>\n",
       "      <td>0</td>\n",
       "      <td>121</td>\n",
       "      <td>40</td>\n",
       "      <td>1</td>\n",
       "      <td>15</td>\n",
       "      <td>9</td>\n",
       "      <td>2022</td>\n",
       "      <td>0.0</td>\n",
       "      <td>0.0</td>\n",
       "      <td>0.0</td>\n",
       "      <td>...</td>\n",
       "      <td>1.0</td>\n",
       "      <td>0.0</td>\n",
       "      <td>0.0</td>\n",
       "      <td>0.0</td>\n",
       "      <td>0.0</td>\n",
       "      <td>0.0</td>\n",
       "      <td>0.0</td>\n",
       "      <td>0.0</td>\n",
       "      <td>0.0</td>\n",
       "      <td>0.0</td>\n",
       "    </tr>\n",
       "    <tr>\n",
       "      <th>3</th>\n",
       "      <td>0</td>\n",
       "      <td>121</td>\n",
       "      <td>40</td>\n",
       "      <td>1</td>\n",
       "      <td>9</td>\n",
       "      <td>2</td>\n",
       "      <td>2022</td>\n",
       "      <td>0.0</td>\n",
       "      <td>0.0</td>\n",
       "      <td>0.0</td>\n",
       "      <td>...</td>\n",
       "      <td>0.0</td>\n",
       "      <td>0.0</td>\n",
       "      <td>0.0</td>\n",
       "      <td>0.0</td>\n",
       "      <td>0.0</td>\n",
       "      <td>0.0</td>\n",
       "      <td>0.0</td>\n",
       "      <td>0.0</td>\n",
       "      <td>1.0</td>\n",
       "      <td>0.0</td>\n",
       "    </tr>\n",
       "    <tr>\n",
       "      <th>4</th>\n",
       "      <td>0</td>\n",
       "      <td>181</td>\n",
       "      <td>50</td>\n",
       "      <td>1</td>\n",
       "      <td>9</td>\n",
       "      <td>4</td>\n",
       "      <td>2022</td>\n",
       "      <td>0.0</td>\n",
       "      <td>0.0</td>\n",
       "      <td>0.0</td>\n",
       "      <td>...</td>\n",
       "      <td>1.0</td>\n",
       "      <td>0.0</td>\n",
       "      <td>0.0</td>\n",
       "      <td>0.0</td>\n",
       "      <td>0.0</td>\n",
       "      <td>0.0</td>\n",
       "      <td>0.0</td>\n",
       "      <td>0.0</td>\n",
       "      <td>0.0</td>\n",
       "      <td>0.0</td>\n",
       "    </tr>\n",
       "  </tbody>\n",
       "</table>\n",
       "<p>5 rows × 37 columns</p>\n",
       "</div>"
      ],
      "text/plain": [
       "   status  budget  lease  stay_type  movein_day  movein_month  movein_year  \\\n",
       "0       0     121     40          1          31             8         2022   \n",
       "1       0     181     51          0           9             8         2022   \n",
       "2       0     121     40          1          15             9         2022   \n",
       "3       0     121     40          1           9             2         2022   \n",
       "4       0     181     50          1           9             4         2022   \n",
       "\n",
       "   Booked with competitor  Booked with manager  Cross sell  ...  \\\n",
       "0                     0.0                  0.0         0.0  ...   \n",
       "1                     0.0                  0.0         0.0  ...   \n",
       "2                     0.0                  0.0         0.0  ...   \n",
       "3                     0.0                  0.0         0.0  ...   \n",
       "4                     0.0                  0.0         0.0  ...   \n",
       "\n",
       "   Not responding  Not serving in that region  Repeat lead  Semester stay  \\\n",
       "0             1.0                         0.0          0.0            0.0   \n",
       "1             0.0                         0.0          0.0            0.0   \n",
       "2             1.0                         0.0          0.0            0.0   \n",
       "3             0.0                         0.0          0.0            0.0   \n",
       "4             1.0                         0.0          0.0            0.0   \n",
       "\n",
       "   Short stay  Supply issue  Underage student  Visa/admission denied  \\\n",
       "0         0.0           0.0               0.0                    0.0   \n",
       "1         0.0           0.0               0.0                    0.0   \n",
       "2         0.0           0.0               0.0                    0.0   \n",
       "3         0.0           0.0               0.0                    0.0   \n",
       "4         0.0           0.0               0.0                    0.0   \n",
       "\n",
       "   Wants private accommodation  no lost reason  \n",
       "0                          0.0             0.0  \n",
       "1                          1.0             0.0  \n",
       "2                          0.0             0.0  \n",
       "3                          1.0             0.0  \n",
       "4                          0.0             0.0  \n",
       "\n",
       "[5 rows x 37 columns]"
      ]
     },
     "execution_count": 39,
     "metadata": {},
     "output_type": "execute_result"
    }
   ],
   "source": [
    "df1=df1.drop('lost_reason',axis=1)\n",
    "df1.head()"
   ]
  },
  {
   "cell_type": "markdown",
   "metadata": {},
   "source": [
    "# Checking For Duplicates"
   ]
  },
  {
   "cell_type": "code",
   "execution_count": 40,
   "metadata": {},
   "outputs": [
    {
     "data": {
      "text/plain": [
       "status                           int32\n",
       "budget                           int32\n",
       "lease                            int32\n",
       "stay_type                        int32\n",
       "movein_day                       int32\n",
       "movein_month                     int32\n",
       "movein_year                      int32\n",
       "Booked with competitor         float64\n",
       "Booked with manager            float64\n",
       "Cross sell                     float64\n",
       "Didn't respond in time         float64\n",
       "Distance issue                 float64\n",
       "Guarantor issue                float64\n",
       "Inadequate details             float64\n",
       "Junk lead                      float64\n",
       "Junk lead/ Just Enquiring      float64\n",
       "Just Enquiring                 float64\n",
       "Lead issue                     float64\n",
       "Looking for Scholarship        float64\n",
       "Looking for admission          float64\n",
       "Looking for loan               float64\n",
       "Low availability               float64\n",
       "Low budget                     float64\n",
       "No supply                      float64\n",
       "Not a student                  float64\n",
       "Not going to university        float64\n",
       "Not interested                 float64\n",
       "Not responding                 float64\n",
       "Not serving in that region     float64\n",
       "Repeat lead                    float64\n",
       "Semester stay                  float64\n",
       "Short stay                     float64\n",
       "Supply issue                   float64\n",
       "Underage student               float64\n",
       "Visa/admission denied          float64\n",
       "Wants private accommodation    float64\n",
       "no lost reason                 float64\n",
       "dtype: object"
      ]
     },
     "execution_count": 40,
     "metadata": {},
     "output_type": "execute_result"
    }
   ],
   "source": [
    "df1.dtypes"
   ]
  },
  {
   "cell_type": "code",
   "execution_count": 41,
   "metadata": {},
   "outputs": [
    {
     "data": {
      "text/plain": [
       "15173"
      ]
     },
     "execution_count": 41,
     "metadata": {},
     "output_type": "execute_result"
    }
   ],
   "source": [
    "df1.duplicated().sum()"
   ]
  },
  {
   "cell_type": "code",
   "execution_count": 42,
   "metadata": {},
   "outputs": [
    {
     "data": {
      "text/html": [
       "<div>\n",
       "<style scoped>\n",
       "    .dataframe tbody tr th:only-of-type {\n",
       "        vertical-align: middle;\n",
       "    }\n",
       "\n",
       "    .dataframe tbody tr th {\n",
       "        vertical-align: top;\n",
       "    }\n",
       "\n",
       "    .dataframe thead th {\n",
       "        text-align: right;\n",
       "    }\n",
       "</style>\n",
       "<table border=\"1\" class=\"dataframe\">\n",
       "  <thead>\n",
       "    <tr style=\"text-align: right;\">\n",
       "      <th></th>\n",
       "      <th>status</th>\n",
       "      <th>budget</th>\n",
       "      <th>lease</th>\n",
       "      <th>stay_type</th>\n",
       "      <th>movein_day</th>\n",
       "      <th>movein_month</th>\n",
       "      <th>movein_year</th>\n",
       "      <th>Booked with competitor</th>\n",
       "      <th>Booked with manager</th>\n",
       "      <th>Cross sell</th>\n",
       "      <th>...</th>\n",
       "      <th>Not responding</th>\n",
       "      <th>Not serving in that region</th>\n",
       "      <th>Repeat lead</th>\n",
       "      <th>Semester stay</th>\n",
       "      <th>Short stay</th>\n",
       "      <th>Supply issue</th>\n",
       "      <th>Underage student</th>\n",
       "      <th>Visa/admission denied</th>\n",
       "      <th>Wants private accommodation</th>\n",
       "      <th>no lost reason</th>\n",
       "    </tr>\n",
       "  </thead>\n",
       "  <tbody>\n",
       "    <tr>\n",
       "      <th>0</th>\n",
       "      <td>0</td>\n",
       "      <td>121</td>\n",
       "      <td>40</td>\n",
       "      <td>1</td>\n",
       "      <td>31</td>\n",
       "      <td>8</td>\n",
       "      <td>2022</td>\n",
       "      <td>0.0</td>\n",
       "      <td>0.0</td>\n",
       "      <td>0.0</td>\n",
       "      <td>...</td>\n",
       "      <td>1.0</td>\n",
       "      <td>0.0</td>\n",
       "      <td>0.0</td>\n",
       "      <td>0.0</td>\n",
       "      <td>0.0</td>\n",
       "      <td>0.0</td>\n",
       "      <td>0.0</td>\n",
       "      <td>0.0</td>\n",
       "      <td>0.0</td>\n",
       "      <td>0.0</td>\n",
       "    </tr>\n",
       "    <tr>\n",
       "      <th>1</th>\n",
       "      <td>0</td>\n",
       "      <td>181</td>\n",
       "      <td>51</td>\n",
       "      <td>0</td>\n",
       "      <td>9</td>\n",
       "      <td>8</td>\n",
       "      <td>2022</td>\n",
       "      <td>0.0</td>\n",
       "      <td>0.0</td>\n",
       "      <td>0.0</td>\n",
       "      <td>...</td>\n",
       "      <td>0.0</td>\n",
       "      <td>0.0</td>\n",
       "      <td>0.0</td>\n",
       "      <td>0.0</td>\n",
       "      <td>0.0</td>\n",
       "      <td>0.0</td>\n",
       "      <td>0.0</td>\n",
       "      <td>0.0</td>\n",
       "      <td>1.0</td>\n",
       "      <td>0.0</td>\n",
       "    </tr>\n",
       "    <tr>\n",
       "      <th>2</th>\n",
       "      <td>0</td>\n",
       "      <td>121</td>\n",
       "      <td>40</td>\n",
       "      <td>1</td>\n",
       "      <td>15</td>\n",
       "      <td>9</td>\n",
       "      <td>2022</td>\n",
       "      <td>0.0</td>\n",
       "      <td>0.0</td>\n",
       "      <td>0.0</td>\n",
       "      <td>...</td>\n",
       "      <td>1.0</td>\n",
       "      <td>0.0</td>\n",
       "      <td>0.0</td>\n",
       "      <td>0.0</td>\n",
       "      <td>0.0</td>\n",
       "      <td>0.0</td>\n",
       "      <td>0.0</td>\n",
       "      <td>0.0</td>\n",
       "      <td>0.0</td>\n",
       "      <td>0.0</td>\n",
       "    </tr>\n",
       "    <tr>\n",
       "      <th>3</th>\n",
       "      <td>0</td>\n",
       "      <td>121</td>\n",
       "      <td>40</td>\n",
       "      <td>1</td>\n",
       "      <td>9</td>\n",
       "      <td>2</td>\n",
       "      <td>2022</td>\n",
       "      <td>0.0</td>\n",
       "      <td>0.0</td>\n",
       "      <td>0.0</td>\n",
       "      <td>...</td>\n",
       "      <td>0.0</td>\n",
       "      <td>0.0</td>\n",
       "      <td>0.0</td>\n",
       "      <td>0.0</td>\n",
       "      <td>0.0</td>\n",
       "      <td>0.0</td>\n",
       "      <td>0.0</td>\n",
       "      <td>0.0</td>\n",
       "      <td>1.0</td>\n",
       "      <td>0.0</td>\n",
       "    </tr>\n",
       "    <tr>\n",
       "      <th>4</th>\n",
       "      <td>0</td>\n",
       "      <td>181</td>\n",
       "      <td>50</td>\n",
       "      <td>1</td>\n",
       "      <td>9</td>\n",
       "      <td>4</td>\n",
       "      <td>2022</td>\n",
       "      <td>0.0</td>\n",
       "      <td>0.0</td>\n",
       "      <td>0.0</td>\n",
       "      <td>...</td>\n",
       "      <td>1.0</td>\n",
       "      <td>0.0</td>\n",
       "      <td>0.0</td>\n",
       "      <td>0.0</td>\n",
       "      <td>0.0</td>\n",
       "      <td>0.0</td>\n",
       "      <td>0.0</td>\n",
       "      <td>0.0</td>\n",
       "      <td>0.0</td>\n",
       "      <td>0.0</td>\n",
       "    </tr>\n",
       "    <tr>\n",
       "      <th>...</th>\n",
       "      <td>...</td>\n",
       "      <td>...</td>\n",
       "      <td>...</td>\n",
       "      <td>...</td>\n",
       "      <td>...</td>\n",
       "      <td>...</td>\n",
       "      <td>...</td>\n",
       "      <td>...</td>\n",
       "      <td>...</td>\n",
       "      <td>...</td>\n",
       "      <td>...</td>\n",
       "      <td>...</td>\n",
       "      <td>...</td>\n",
       "      <td>...</td>\n",
       "      <td>...</td>\n",
       "      <td>...</td>\n",
       "      <td>...</td>\n",
       "      <td>...</td>\n",
       "      <td>...</td>\n",
       "      <td>...</td>\n",
       "      <td>...</td>\n",
       "    </tr>\n",
       "    <tr>\n",
       "      <th>26888</th>\n",
       "      <td>1</td>\n",
       "      <td>150</td>\n",
       "      <td>50</td>\n",
       "      <td>1</td>\n",
       "      <td>9</td>\n",
       "      <td>3</td>\n",
       "      <td>2022</td>\n",
       "      <td>0.0</td>\n",
       "      <td>0.0</td>\n",
       "      <td>0.0</td>\n",
       "      <td>...</td>\n",
       "      <td>0.0</td>\n",
       "      <td>0.0</td>\n",
       "      <td>0.0</td>\n",
       "      <td>0.0</td>\n",
       "      <td>0.0</td>\n",
       "      <td>0.0</td>\n",
       "      <td>0.0</td>\n",
       "      <td>0.0</td>\n",
       "      <td>0.0</td>\n",
       "      <td>1.0</td>\n",
       "    </tr>\n",
       "    <tr>\n",
       "      <th>26890</th>\n",
       "      <td>1</td>\n",
       "      <td>129</td>\n",
       "      <td>51</td>\n",
       "      <td>0</td>\n",
       "      <td>9</td>\n",
       "      <td>5</td>\n",
       "      <td>2022</td>\n",
       "      <td>0.0</td>\n",
       "      <td>0.0</td>\n",
       "      <td>0.0</td>\n",
       "      <td>...</td>\n",
       "      <td>0.0</td>\n",
       "      <td>0.0</td>\n",
       "      <td>0.0</td>\n",
       "      <td>0.0</td>\n",
       "      <td>0.0</td>\n",
       "      <td>0.0</td>\n",
       "      <td>0.0</td>\n",
       "      <td>0.0</td>\n",
       "      <td>0.0</td>\n",
       "      <td>1.0</td>\n",
       "    </tr>\n",
       "    <tr>\n",
       "      <th>26900</th>\n",
       "      <td>1</td>\n",
       "      <td>100</td>\n",
       "      <td>40</td>\n",
       "      <td>1</td>\n",
       "      <td>9</td>\n",
       "      <td>1</td>\n",
       "      <td>2022</td>\n",
       "      <td>0.0</td>\n",
       "      <td>0.0</td>\n",
       "      <td>0.0</td>\n",
       "      <td>...</td>\n",
       "      <td>0.0</td>\n",
       "      <td>0.0</td>\n",
       "      <td>0.0</td>\n",
       "      <td>0.0</td>\n",
       "      <td>0.0</td>\n",
       "      <td>0.0</td>\n",
       "      <td>0.0</td>\n",
       "      <td>0.0</td>\n",
       "      <td>0.0</td>\n",
       "      <td>1.0</td>\n",
       "    </tr>\n",
       "    <tr>\n",
       "      <th>26903</th>\n",
       "      <td>1</td>\n",
       "      <td>135</td>\n",
       "      <td>46</td>\n",
       "      <td>0</td>\n",
       "      <td>16</td>\n",
       "      <td>9</td>\n",
       "      <td>2022</td>\n",
       "      <td>0.0</td>\n",
       "      <td>0.0</td>\n",
       "      <td>0.0</td>\n",
       "      <td>...</td>\n",
       "      <td>0.0</td>\n",
       "      <td>0.0</td>\n",
       "      <td>0.0</td>\n",
       "      <td>0.0</td>\n",
       "      <td>0.0</td>\n",
       "      <td>0.0</td>\n",
       "      <td>0.0</td>\n",
       "      <td>0.0</td>\n",
       "      <td>0.0</td>\n",
       "      <td>1.0</td>\n",
       "    </tr>\n",
       "    <tr>\n",
       "      <th>26906</th>\n",
       "      <td>1</td>\n",
       "      <td>180</td>\n",
       "      <td>44</td>\n",
       "      <td>0</td>\n",
       "      <td>16</td>\n",
       "      <td>9</td>\n",
       "      <td>2022</td>\n",
       "      <td>0.0</td>\n",
       "      <td>0.0</td>\n",
       "      <td>0.0</td>\n",
       "      <td>...</td>\n",
       "      <td>0.0</td>\n",
       "      <td>0.0</td>\n",
       "      <td>0.0</td>\n",
       "      <td>0.0</td>\n",
       "      <td>0.0</td>\n",
       "      <td>0.0</td>\n",
       "      <td>0.0</td>\n",
       "      <td>0.0</td>\n",
       "      <td>0.0</td>\n",
       "      <td>1.0</td>\n",
       "    </tr>\n",
       "  </tbody>\n",
       "</table>\n",
       "<p>11736 rows × 37 columns</p>\n",
       "</div>"
      ],
      "text/plain": [
       "       status  budget  lease  stay_type  movein_day  movein_month  \\\n",
       "0           0     121     40          1          31             8   \n",
       "1           0     181     51          0           9             8   \n",
       "2           0     121     40          1          15             9   \n",
       "3           0     121     40          1           9             2   \n",
       "4           0     181     50          1           9             4   \n",
       "...       ...     ...    ...        ...         ...           ...   \n",
       "26888       1     150     50          1           9             3   \n",
       "26890       1     129     51          0           9             5   \n",
       "26900       1     100     40          1           9             1   \n",
       "26903       1     135     46          0          16             9   \n",
       "26906       1     180     44          0          16             9   \n",
       "\n",
       "       movein_year  Booked with competitor  Booked with manager  Cross sell  \\\n",
       "0             2022                     0.0                  0.0         0.0   \n",
       "1             2022                     0.0                  0.0         0.0   \n",
       "2             2022                     0.0                  0.0         0.0   \n",
       "3             2022                     0.0                  0.0         0.0   \n",
       "4             2022                     0.0                  0.0         0.0   \n",
       "...            ...                     ...                  ...         ...   \n",
       "26888         2022                     0.0                  0.0         0.0   \n",
       "26890         2022                     0.0                  0.0         0.0   \n",
       "26900         2022                     0.0                  0.0         0.0   \n",
       "26903         2022                     0.0                  0.0         0.0   \n",
       "26906         2022                     0.0                  0.0         0.0   \n",
       "\n",
       "       ...  Not responding  Not serving in that region  Repeat lead  \\\n",
       "0      ...             1.0                         0.0          0.0   \n",
       "1      ...             0.0                         0.0          0.0   \n",
       "2      ...             1.0                         0.0          0.0   \n",
       "3      ...             0.0                         0.0          0.0   \n",
       "4      ...             1.0                         0.0          0.0   \n",
       "...    ...             ...                         ...          ...   \n",
       "26888  ...             0.0                         0.0          0.0   \n",
       "26890  ...             0.0                         0.0          0.0   \n",
       "26900  ...             0.0                         0.0          0.0   \n",
       "26903  ...             0.0                         0.0          0.0   \n",
       "26906  ...             0.0                         0.0          0.0   \n",
       "\n",
       "       Semester stay  Short stay  Supply issue  Underage student  \\\n",
       "0                0.0         0.0           0.0               0.0   \n",
       "1                0.0         0.0           0.0               0.0   \n",
       "2                0.0         0.0           0.0               0.0   \n",
       "3                0.0         0.0           0.0               0.0   \n",
       "4                0.0         0.0           0.0               0.0   \n",
       "...              ...         ...           ...               ...   \n",
       "26888            0.0         0.0           0.0               0.0   \n",
       "26890            0.0         0.0           0.0               0.0   \n",
       "26900            0.0         0.0           0.0               0.0   \n",
       "26903            0.0         0.0           0.0               0.0   \n",
       "26906            0.0         0.0           0.0               0.0   \n",
       "\n",
       "       Visa/admission denied  Wants private accommodation  no lost reason  \n",
       "0                        0.0                          0.0             0.0  \n",
       "1                        0.0                          1.0             0.0  \n",
       "2                        0.0                          0.0             0.0  \n",
       "3                        0.0                          1.0             0.0  \n",
       "4                        0.0                          0.0             0.0  \n",
       "...                      ...                          ...             ...  \n",
       "26888                    0.0                          0.0             1.0  \n",
       "26890                    0.0                          0.0             1.0  \n",
       "26900                    0.0                          0.0             1.0  \n",
       "26903                    0.0                          0.0             1.0  \n",
       "26906                    0.0                          0.0             1.0  \n",
       "\n",
       "[11736 rows x 37 columns]"
      ]
     },
     "execution_count": 42,
     "metadata": {},
     "output_type": "execute_result"
    }
   ],
   "source": [
    "df1= df1.drop_duplicates(keep='first')\n",
    "df1"
   ]
  },
  {
   "cell_type": "code",
   "execution_count": 43,
   "metadata": {},
   "outputs": [],
   "source": [
    "df1.reset_index(drop=True, inplace= True)"
   ]
  },
  {
   "cell_type": "code",
   "execution_count": 44,
   "metadata": {},
   "outputs": [
    {
     "name": "stdout",
     "output_type": "stream",
     "text": [
      "<class 'pandas.core.frame.DataFrame'>\n",
      "RangeIndex: 11736 entries, 0 to 11735\n",
      "Data columns (total 37 columns):\n",
      " #   Column                       Non-Null Count  Dtype  \n",
      "---  ------                       --------------  -----  \n",
      " 0   status                       11736 non-null  int32  \n",
      " 1   budget                       11736 non-null  int32  \n",
      " 2   lease                        11736 non-null  int32  \n",
      " 3   stay_type                    11736 non-null  int32  \n",
      " 4   movein_day                   11736 non-null  int32  \n",
      " 5   movein_month                 11736 non-null  int32  \n",
      " 6   movein_year                  11736 non-null  int32  \n",
      " 7   Booked with competitor       11736 non-null  float64\n",
      " 8   Booked with manager          11736 non-null  float64\n",
      " 9   Cross sell                   11736 non-null  float64\n",
      " 10  Didn't respond in time       11736 non-null  float64\n",
      " 11  Distance issue               11736 non-null  float64\n",
      " 12  Guarantor issue              11736 non-null  float64\n",
      " 13  Inadequate details           11736 non-null  float64\n",
      " 14  Junk lead                    11736 non-null  float64\n",
      " 15  Junk lead/ Just Enquiring    11736 non-null  float64\n",
      " 16  Just Enquiring               11736 non-null  float64\n",
      " 17  Lead issue                   11736 non-null  float64\n",
      " 18  Looking for Scholarship      11736 non-null  float64\n",
      " 19  Looking for admission        11736 non-null  float64\n",
      " 20  Looking for loan             11736 non-null  float64\n",
      " 21  Low availability             11736 non-null  float64\n",
      " 22  Low budget                   11736 non-null  float64\n",
      " 23  No supply                    11736 non-null  float64\n",
      " 24  Not a student                11736 non-null  float64\n",
      " 25  Not going to university      11736 non-null  float64\n",
      " 26  Not interested               11736 non-null  float64\n",
      " 27  Not responding               11736 non-null  float64\n",
      " 28  Not serving in that region   11736 non-null  float64\n",
      " 29  Repeat lead                  11736 non-null  float64\n",
      " 30  Semester stay                11736 non-null  float64\n",
      " 31  Short stay                   11736 non-null  float64\n",
      " 32  Supply issue                 11736 non-null  float64\n",
      " 33  Underage student             11736 non-null  float64\n",
      " 34  Visa/admission denied        11736 non-null  float64\n",
      " 35  Wants private accommodation  11736 non-null  float64\n",
      " 36  no lost reason               11736 non-null  float64\n",
      "dtypes: float64(30), int32(7)\n",
      "memory usage: 3.0 MB\n"
     ]
    }
   ],
   "source": [
    "df1.info()"
   ]
  },
  {
   "cell_type": "code",
   "execution_count": null,
   "metadata": {},
   "outputs": [],
   "source": []
  },
  {
   "cell_type": "code",
   "execution_count": null,
   "metadata": {},
   "outputs": [],
   "source": []
  },
  {
   "cell_type": "markdown",
   "metadata": {},
   "source": [
    "# Data is Imbalance"
   ]
  },
  {
   "cell_type": "code",
   "execution_count": 45,
   "metadata": {},
   "outputs": [],
   "source": [
    "x= df1.drop('status',axis=1)\n",
    "y= df1.status"
   ]
  },
  {
   "cell_type": "code",
   "execution_count": 46,
   "metadata": {},
   "outputs": [],
   "source": [
    "os=SMOTETomek()\n",
    "x_ne,y_ne=os.fit_resample(x,y)"
   ]
  },
  {
   "cell_type": "code",
   "execution_count": 47,
   "metadata": {},
   "outputs": [
    {
     "data": {
      "text/plain": [
       "0    10729\n",
       "1    10729\n",
       "Name: status, dtype: int64"
      ]
     },
     "execution_count": 47,
     "metadata": {},
     "output_type": "execute_result"
    }
   ],
   "source": [
    "y_ne.value_counts()"
   ]
  },
  {
   "cell_type": "code",
   "execution_count": 48,
   "metadata": {},
   "outputs": [],
   "source": [
    "scale= MinMaxScaler()\n",
    "model= scale.fit(x_ne)\n",
    "x_sc=model.transform(x_ne)"
   ]
  },
  {
   "cell_type": "markdown",
   "metadata": {},
   "source": [
    "# Creating Lead Score Column"
   ]
  },
  {
   "cell_type": "code",
   "execution_count": 49,
   "metadata": {},
   "outputs": [],
   "source": [
    "lr= LogisticRegression()"
   ]
  },
  {
   "cell_type": "code",
   "execution_count": 50,
   "metadata": {},
   "outputs": [],
   "source": [
    "xtrain,xtest,ytrain,ytest= train_test_split(x_sc,y_ne,test_size= 0.2,random_state=2)"
   ]
  },
  {
   "cell_type": "code",
   "execution_count": 51,
   "metadata": {},
   "outputs": [
    {
     "data": {
      "text/plain": [
       "LogisticRegression()"
      ]
     },
     "execution_count": 51,
     "metadata": {},
     "output_type": "execute_result"
    }
   ],
   "source": [
    "lr.fit(xtrain,ytrain)"
   ]
  },
  {
   "cell_type": "code",
   "execution_count": 52,
   "metadata": {},
   "outputs": [],
   "source": [
    "ytrainpred= lr.predict(xtrain)"
   ]
  },
  {
   "cell_type": "code",
   "execution_count": 53,
   "metadata": {},
   "outputs": [],
   "source": [
    "ypred=lr.predict(xtest)"
   ]
  },
  {
   "cell_type": "code",
   "execution_count": 54,
   "metadata": {},
   "outputs": [
    {
     "name": "stdout",
     "output_type": "stream",
     "text": [
      "              precision    recall  f1-score   support\n",
      "\n",
      "           0       1.00      1.00      1.00      2083\n",
      "           1       1.00      1.00      1.00      2209\n",
      "\n",
      "    accuracy                           1.00      4292\n",
      "   macro avg       1.00      1.00      1.00      4292\n",
      "weighted avg       1.00      1.00      1.00      4292\n",
      "\n",
      "[[2083    0]\n",
      " [   0 2209]]\n"
     ]
    }
   ],
   "source": [
    "print(classification_report(ytest,ypred))\n",
    "print(confusion_matrix(ytest,ypred))"
   ]
  },
  {
   "cell_type": "code",
   "execution_count": 55,
   "metadata": {},
   "outputs": [
    {
     "name": "stdout",
     "output_type": "stream",
     "text": [
      "              precision    recall  f1-score   support\n",
      "\n",
      "           0       1.00      1.00      1.00      8646\n",
      "           1       1.00      1.00      1.00      8520\n",
      "\n",
      "    accuracy                           1.00     17166\n",
      "   macro avg       1.00      1.00      1.00     17166\n",
      "weighted avg       1.00      1.00      1.00     17166\n",
      "\n",
      "[[8646    0]\n",
      " [   0 8520]]\n"
     ]
    }
   ],
   "source": [
    "print(classification_report(ytrain,ytrainpred))\n",
    "print(confusion_matrix(ytrain,ytrainpred))"
   ]
  },
  {
   "cell_type": "code",
   "execution_count": 56,
   "metadata": {},
   "outputs": [
    {
     "data": {
      "text/plain": [
       "1.0"
      ]
     },
     "execution_count": 56,
     "metadata": {},
     "output_type": "execute_result"
    }
   ],
   "source": [
    "np.mean(cross_val_score(lr,xtrain,ytrain,cv=10))"
   ]
  },
  {
   "cell_type": "code",
   "execution_count": 57,
   "metadata": {},
   "outputs": [
    {
     "data": {
      "text/plain": [
       "1.0"
      ]
     },
     "execution_count": 57,
     "metadata": {},
     "output_type": "execute_result"
    }
   ],
   "source": [
    "np.mean(cross_val_score(lr,xtest,ytest,cv=10))"
   ]
  },
  {
   "cell_type": "code",
   "execution_count": 58,
   "metadata": {},
   "outputs": [
    {
     "data": {
      "text/plain": [
       "LogisticRegression()"
      ]
     },
     "execution_count": 58,
     "metadata": {},
     "output_type": "execute_result"
    }
   ],
   "source": [
    "lr.fit(x_sc,y_ne)"
   ]
  },
  {
   "cell_type": "code",
   "execution_count": 59,
   "metadata": {},
   "outputs": [
    {
     "name": "stdout",
     "output_type": "stream",
     "text": [
      "[[-7.51367910e-02  6.15470074e-03 -5.75294781e-01 -1.21827128e-01\n",
      "   9.58347280e-02 -4.08102109e-02 -3.52385291e-01 -4.89744120e-01\n",
      "  -3.11257744e-03 -4.56855082e-02 -2.05389003e-01 -1.48571560e-02\n",
      "  -4.56621555e-01 -4.10534073e-01 -2.14312103e-01 -6.96192589e-01\n",
      "  -1.74028908e-01 -1.50353371e-02 -4.65685493e-02 -4.82015530e-03\n",
      "  -1.21720983e+00 -1.11255150e+00 -2.25260750e-01 -6.20759338e-01\n",
      "  -2.98976110e-01 -1.20351227e+00 -1.22553864e+00 -1.24849140e-01\n",
      "  -2.82306053e-01 -4.24651413e-01 -7.50372791e-01 -4.32655246e-01\n",
      "  -7.80285296e-03 -2.93043922e-02 -8.64023294e-01  1.26141989e+01]]\n",
      "[-5.69708076]\n"
     ]
    }
   ],
   "source": [
    "print(lr.coef_)\n",
    "print(lr.intercept_)"
   ]
  },
  {
   "cell_type": "code",
   "execution_count": 60,
   "metadata": {},
   "outputs": [],
   "source": [
    "X=np.array(x_sc)"
   ]
  },
  {
   "cell_type": "code",
   "execution_count": 61,
   "metadata": {},
   "outputs": [
    {
     "data": {
      "text/plain": [
       "array([[1.        , 0.04108659, 0.00898674, ..., 0.        , 0.        ,\n",
       "        0.        ],\n",
       "       [1.        , 0.0614601 , 0.0114581 , ..., 0.        , 1.        ,\n",
       "        0.        ],\n",
       "       [1.        , 0.04108659, 0.00898674, ..., 0.        , 0.        ,\n",
       "        0.        ],\n",
       "       ...,\n",
       "       [1.        , 0.        , 0.0114581 , ..., 0.        , 0.        ,\n",
       "        1.        ],\n",
       "       [1.        , 0.0295416 , 0.00539205, ..., 0.        , 0.        ,\n",
       "        1.        ],\n",
       "       [1.        , 0.02818336, 0.00943608, ..., 0.        , 0.        ,\n",
       "        1.        ]])"
      ]
     },
     "execution_count": 61,
     "metadata": {},
     "output_type": "execute_result"
    }
   ],
   "source": [
    "X=np.insert(X,0,1,axis=1)\n",
    "X"
   ]
  },
  {
   "cell_type": "code",
   "execution_count": 62,
   "metadata": {},
   "outputs": [],
   "source": [
    "weights=[lr.intercept_[0],lr.coef_[0][0],lr.coef_[0][1],lr.coef_[0][2],lr.coef_[0][3],lr.coef_[0][4],lr.coef_[0][5],lr.coef_[0][6],lr.coef_[0][7],lr.coef_[0][8],lr.coef_[0][9],lr.coef_[0][10],lr.coef_[0][11],lr.coef_[0][12],lr.coef_[0][13],lr.coef_[0][14],lr.coef_[0][15],lr.coef_[0][16],lr.coef_[0][17],lr.coef_[0][18],lr.coef_[0][19],lr.coef_[0][20],lr.coef_[0][21],lr.coef_[0][22],lr.coef_[0][23],lr.coef_[0][24],lr.coef_[0][25],lr.coef_[0][26],lr.coef_[0][27],lr.coef_[0][28],lr.coef_[0][29],lr.coef_[0][30],lr.coef_[0][31],lr.coef_[0][32],lr.coef_[0][33],lr.coef_[0][34],lr.coef_[0][35]]"
   ]
  },
  {
   "cell_type": "code",
   "execution_count": 63,
   "metadata": {},
   "outputs": [
    {
     "data": {
      "text/plain": [
       "array([-5.69708076e+00, -7.51367910e-02,  6.15470074e-03, -5.75294781e-01,\n",
       "       -1.21827128e-01,  9.58347280e-02, -4.08102109e-02, -3.52385291e-01,\n",
       "       -4.89744120e-01, -3.11257744e-03, -4.56855082e-02, -2.05389003e-01,\n",
       "       -1.48571560e-02, -4.56621555e-01, -4.10534073e-01, -2.14312103e-01,\n",
       "       -6.96192589e-01, -1.74028908e-01, -1.50353371e-02, -4.65685493e-02,\n",
       "       -4.82015530e-03, -1.21720983e+00, -1.11255150e+00, -2.25260750e-01,\n",
       "       -6.20759338e-01, -2.98976110e-01, -1.20351227e+00, -1.22553864e+00,\n",
       "       -1.24849140e-01, -2.82306053e-01, -4.24651413e-01, -7.50372791e-01,\n",
       "       -4.32655246e-01, -7.80285296e-03, -2.93043922e-02, -8.64023294e-01,\n",
       "        1.26141989e+01])"
      ]
     },
     "execution_count": 63,
     "metadata": {},
     "output_type": "execute_result"
    }
   ],
   "source": [
    "weights= np.array(weights)\n",
    "weights"
   ]
  },
  {
   "cell_type": "code",
   "execution_count": 64,
   "metadata": {},
   "outputs": [],
   "source": [
    "def sigmoid(z):\n",
    "    \n",
    "    return 1/(1 + np.exp(-z))\n",
    "\n",
    "z=np.dot(X,weights)\n",
    "y_hat= sigmoid(z)\n"
   ]
  },
  {
   "cell_type": "code",
   "execution_count": 65,
   "metadata": {},
   "outputs": [
    {
     "data": {
      "text/plain": [
       "array([6.67245279e-02, 1.39328279e-01, 7.18232552e-02, ...,\n",
       "       9.98964250e+01, 9.98979224e+01, 9.98999848e+01])"
      ]
     },
     "execution_count": 65,
     "metadata": {},
     "output_type": "execute_result"
    }
   ],
   "source": [
    "y_hat= y_hat * 100\n",
    "y_hat"
   ]
  },
  {
   "cell_type": "code",
   "execution_count": 66,
   "metadata": {},
   "outputs": [],
   "source": [
    "#for i in y_hat:\n",
    "    #print(i)"
   ]
  },
  {
   "cell_type": "code",
   "execution_count": 67,
   "metadata": {},
   "outputs": [],
   "source": [
    "temp3= pd.DataFrame(y_hat)"
   ]
  },
  {
   "cell_type": "code",
   "execution_count": 68,
   "metadata": {},
   "outputs": [
    {
     "data": {
      "text/html": [
       "<div>\n",
       "<style scoped>\n",
       "    .dataframe tbody tr th:only-of-type {\n",
       "        vertical-align: middle;\n",
       "    }\n",
       "\n",
       "    .dataframe tbody tr th {\n",
       "        vertical-align: top;\n",
       "    }\n",
       "\n",
       "    .dataframe thead th {\n",
       "        text-align: right;\n",
       "    }\n",
       "</style>\n",
       "<table border=\"1\" class=\"dataframe\">\n",
       "  <thead>\n",
       "    <tr style=\"text-align: right;\">\n",
       "      <th></th>\n",
       "      <th>lead score</th>\n",
       "    </tr>\n",
       "  </thead>\n",
       "  <tbody>\n",
       "    <tr>\n",
       "      <th>0</th>\n",
       "      <td>0.066725</td>\n",
       "    </tr>\n",
       "    <tr>\n",
       "      <th>1</th>\n",
       "      <td>0.139328</td>\n",
       "    </tr>\n",
       "    <tr>\n",
       "      <th>2</th>\n",
       "      <td>0.071823</td>\n",
       "    </tr>\n",
       "    <tr>\n",
       "      <th>3</th>\n",
       "      <td>0.099368</td>\n",
       "    </tr>\n",
       "    <tr>\n",
       "      <th>4</th>\n",
       "      <td>0.070352</td>\n",
       "    </tr>\n",
       "    <tr>\n",
       "      <th>...</th>\n",
       "      <td>...</td>\n",
       "    </tr>\n",
       "    <tr>\n",
       "      <th>21453</th>\n",
       "      <td>99.865690</td>\n",
       "    </tr>\n",
       "    <tr>\n",
       "      <th>21454</th>\n",
       "      <td>99.861606</td>\n",
       "    </tr>\n",
       "    <tr>\n",
       "      <th>21455</th>\n",
       "      <td>99.896425</td>\n",
       "    </tr>\n",
       "    <tr>\n",
       "      <th>21456</th>\n",
       "      <td>99.897922</td>\n",
       "    </tr>\n",
       "    <tr>\n",
       "      <th>21457</th>\n",
       "      <td>99.899985</td>\n",
       "    </tr>\n",
       "  </tbody>\n",
       "</table>\n",
       "<p>21458 rows × 1 columns</p>\n",
       "</div>"
      ],
      "text/plain": [
       "       lead score\n",
       "0        0.066725\n",
       "1        0.139328\n",
       "2        0.071823\n",
       "3        0.099368\n",
       "4        0.070352\n",
       "...           ...\n",
       "21453   99.865690\n",
       "21454   99.861606\n",
       "21455   99.896425\n",
       "21456   99.897922\n",
       "21457   99.899985\n",
       "\n",
       "[21458 rows x 1 columns]"
      ]
     },
     "execution_count": 68,
     "metadata": {},
     "output_type": "execute_result"
    }
   ],
   "source": [
    "temp3.columns= ['lead score']\n",
    "temp3"
   ]
  },
  {
   "cell_type": "code",
   "execution_count": 69,
   "metadata": {},
   "outputs": [
    {
     "data": {
      "text/html": [
       "<div>\n",
       "<style scoped>\n",
       "    .dataframe tbody tr th:only-of-type {\n",
       "        vertical-align: middle;\n",
       "    }\n",
       "\n",
       "    .dataframe tbody tr th {\n",
       "        vertical-align: top;\n",
       "    }\n",
       "\n",
       "    .dataframe thead th {\n",
       "        text-align: right;\n",
       "    }\n",
       "</style>\n",
       "<table border=\"1\" class=\"dataframe\">\n",
       "  <thead>\n",
       "    <tr style=\"text-align: right;\">\n",
       "      <th></th>\n",
       "      <th>budget</th>\n",
       "      <th>lease</th>\n",
       "      <th>stay_type</th>\n",
       "      <th>movein_day</th>\n",
       "      <th>movein_month</th>\n",
       "      <th>movein_year</th>\n",
       "      <th>Booked with competitor</th>\n",
       "      <th>Booked with manager</th>\n",
       "      <th>Cross sell</th>\n",
       "      <th>Didn't respond in time</th>\n",
       "      <th>...</th>\n",
       "      <th>Not serving in that region</th>\n",
       "      <th>Repeat lead</th>\n",
       "      <th>Semester stay</th>\n",
       "      <th>Short stay</th>\n",
       "      <th>Supply issue</th>\n",
       "      <th>Underage student</th>\n",
       "      <th>Visa/admission denied</th>\n",
       "      <th>Wants private accommodation</th>\n",
       "      <th>no lost reason</th>\n",
       "      <th>lead score</th>\n",
       "    </tr>\n",
       "  </thead>\n",
       "  <tbody>\n",
       "    <tr>\n",
       "      <th>0</th>\n",
       "      <td>121</td>\n",
       "      <td>40</td>\n",
       "      <td>1</td>\n",
       "      <td>31</td>\n",
       "      <td>8</td>\n",
       "      <td>2022</td>\n",
       "      <td>0.0</td>\n",
       "      <td>0.0</td>\n",
       "      <td>0.0</td>\n",
       "      <td>0.0</td>\n",
       "      <td>...</td>\n",
       "      <td>0.0</td>\n",
       "      <td>0.0</td>\n",
       "      <td>0.0</td>\n",
       "      <td>0.0</td>\n",
       "      <td>0.0</td>\n",
       "      <td>0.0</td>\n",
       "      <td>0.0</td>\n",
       "      <td>0.0</td>\n",
       "      <td>0.0</td>\n",
       "      <td>0.066725</td>\n",
       "    </tr>\n",
       "    <tr>\n",
       "      <th>1</th>\n",
       "      <td>181</td>\n",
       "      <td>51</td>\n",
       "      <td>0</td>\n",
       "      <td>9</td>\n",
       "      <td>8</td>\n",
       "      <td>2022</td>\n",
       "      <td>0.0</td>\n",
       "      <td>0.0</td>\n",
       "      <td>0.0</td>\n",
       "      <td>0.0</td>\n",
       "      <td>...</td>\n",
       "      <td>0.0</td>\n",
       "      <td>0.0</td>\n",
       "      <td>0.0</td>\n",
       "      <td>0.0</td>\n",
       "      <td>0.0</td>\n",
       "      <td>0.0</td>\n",
       "      <td>0.0</td>\n",
       "      <td>1.0</td>\n",
       "      <td>0.0</td>\n",
       "      <td>0.139328</td>\n",
       "    </tr>\n",
       "    <tr>\n",
       "      <th>2</th>\n",
       "      <td>121</td>\n",
       "      <td>40</td>\n",
       "      <td>1</td>\n",
       "      <td>15</td>\n",
       "      <td>9</td>\n",
       "      <td>2022</td>\n",
       "      <td>0.0</td>\n",
       "      <td>0.0</td>\n",
       "      <td>0.0</td>\n",
       "      <td>0.0</td>\n",
       "      <td>...</td>\n",
       "      <td>0.0</td>\n",
       "      <td>0.0</td>\n",
       "      <td>0.0</td>\n",
       "      <td>0.0</td>\n",
       "      <td>0.0</td>\n",
       "      <td>0.0</td>\n",
       "      <td>0.0</td>\n",
       "      <td>0.0</td>\n",
       "      <td>0.0</td>\n",
       "      <td>0.071823</td>\n",
       "    </tr>\n",
       "    <tr>\n",
       "      <th>3</th>\n",
       "      <td>121</td>\n",
       "      <td>40</td>\n",
       "      <td>1</td>\n",
       "      <td>9</td>\n",
       "      <td>2</td>\n",
       "      <td>2022</td>\n",
       "      <td>0.0</td>\n",
       "      <td>0.0</td>\n",
       "      <td>0.0</td>\n",
       "      <td>0.0</td>\n",
       "      <td>...</td>\n",
       "      <td>0.0</td>\n",
       "      <td>0.0</td>\n",
       "      <td>0.0</td>\n",
       "      <td>0.0</td>\n",
       "      <td>0.0</td>\n",
       "      <td>0.0</td>\n",
       "      <td>0.0</td>\n",
       "      <td>1.0</td>\n",
       "      <td>0.0</td>\n",
       "      <td>0.099368</td>\n",
       "    </tr>\n",
       "    <tr>\n",
       "      <th>4</th>\n",
       "      <td>181</td>\n",
       "      <td>50</td>\n",
       "      <td>1</td>\n",
       "      <td>9</td>\n",
       "      <td>4</td>\n",
       "      <td>2022</td>\n",
       "      <td>0.0</td>\n",
       "      <td>0.0</td>\n",
       "      <td>0.0</td>\n",
       "      <td>0.0</td>\n",
       "      <td>...</td>\n",
       "      <td>0.0</td>\n",
       "      <td>0.0</td>\n",
       "      <td>0.0</td>\n",
       "      <td>0.0</td>\n",
       "      <td>0.0</td>\n",
       "      <td>0.0</td>\n",
       "      <td>0.0</td>\n",
       "      <td>0.0</td>\n",
       "      <td>0.0</td>\n",
       "      <td>0.070352</td>\n",
       "    </tr>\n",
       "  </tbody>\n",
       "</table>\n",
       "<p>5 rows × 37 columns</p>\n",
       "</div>"
      ],
      "text/plain": [
       "   budget  lease  stay_type  movein_day  movein_month  movein_year  \\\n",
       "0     121     40          1          31             8         2022   \n",
       "1     181     51          0           9             8         2022   \n",
       "2     121     40          1          15             9         2022   \n",
       "3     121     40          1           9             2         2022   \n",
       "4     181     50          1           9             4         2022   \n",
       "\n",
       "   Booked with competitor  Booked with manager  Cross sell  \\\n",
       "0                     0.0                  0.0         0.0   \n",
       "1                     0.0                  0.0         0.0   \n",
       "2                     0.0                  0.0         0.0   \n",
       "3                     0.0                  0.0         0.0   \n",
       "4                     0.0                  0.0         0.0   \n",
       "\n",
       "   Didn't respond in time  ...  Not serving in that region  Repeat lead  \\\n",
       "0                     0.0  ...                         0.0          0.0   \n",
       "1                     0.0  ...                         0.0          0.0   \n",
       "2                     0.0  ...                         0.0          0.0   \n",
       "3                     0.0  ...                         0.0          0.0   \n",
       "4                     0.0  ...                         0.0          0.0   \n",
       "\n",
       "   Semester stay  Short stay  Supply issue  Underage student  \\\n",
       "0            0.0         0.0           0.0               0.0   \n",
       "1            0.0         0.0           0.0               0.0   \n",
       "2            0.0         0.0           0.0               0.0   \n",
       "3            0.0         0.0           0.0               0.0   \n",
       "4            0.0         0.0           0.0               0.0   \n",
       "\n",
       "   Visa/admission denied  Wants private accommodation  no lost reason  \\\n",
       "0                    0.0                          0.0             0.0   \n",
       "1                    0.0                          1.0             0.0   \n",
       "2                    0.0                          0.0             0.0   \n",
       "3                    0.0                          1.0             0.0   \n",
       "4                    0.0                          0.0             0.0   \n",
       "\n",
       "   lead score  \n",
       "0    0.066725  \n",
       "1    0.139328  \n",
       "2    0.071823  \n",
       "3    0.099368  \n",
       "4    0.070352  \n",
       "\n",
       "[5 rows x 37 columns]"
      ]
     },
     "execution_count": 69,
     "metadata": {},
     "output_type": "execute_result"
    }
   ],
   "source": [
    "df= pd.concat([x_ne,temp3],axis=1)\n",
    "df.head()"
   ]
  },
  {
   "cell_type": "code",
   "execution_count": null,
   "metadata": {},
   "outputs": [],
   "source": []
  },
  {
   "cell_type": "markdown",
   "metadata": {},
   "source": [
    "# Creating Model For Prediction of Lead Score"
   ]
  },
  {
   "cell_type": "code",
   "execution_count": 70,
   "metadata": {
    "scrolled": true
   },
   "outputs": [],
   "source": [
    "X= df.drop('lead score',axis=1)\n",
    "Y= df['lead score']"
   ]
  },
  {
   "cell_type": "code",
   "execution_count": 71,
   "metadata": {},
   "outputs": [],
   "source": [
    "model= scale.fit(X)\n",
    "X_sc= model.transform(X)"
   ]
  },
  {
   "cell_type": "markdown",
   "metadata": {},
   "source": [
    "# 1. Linear Regression"
   ]
  },
  {
   "cell_type": "code",
   "execution_count": 72,
   "metadata": {},
   "outputs": [],
   "source": [
    "LR= LinearRegression()"
   ]
  },
  {
   "cell_type": "code",
   "execution_count": 73,
   "metadata": {},
   "outputs": [],
   "source": [
    "xtrain,xtest,ytrain,ytest= train_test_split(X_sc,Y,test_size= 0.2,random_state= 2)"
   ]
  },
  {
   "cell_type": "code",
   "execution_count": 74,
   "metadata": {},
   "outputs": [],
   "source": [
    "model=LR.fit(xtrain,ytrain)"
   ]
  },
  {
   "cell_type": "code",
   "execution_count": 75,
   "metadata": {},
   "outputs": [],
   "source": [
    "ytrain_pred= model.predict(xtrain)\n",
    "ytest_pred= model.predict(xtest)"
   ]
  },
  {
   "cell_type": "code",
   "execution_count": 76,
   "metadata": {},
   "outputs": [
    {
     "name": "stdout",
     "output_type": "stream",
     "text": [
      "R2 Score of Train Data:  0.9999999820562446\n"
     ]
    }
   ],
   "source": [
    "print('R2 Score of Train Data: ',r2_score(ytrain,ytrain_pred))"
   ]
  },
  {
   "cell_type": "code",
   "execution_count": 77,
   "metadata": {},
   "outputs": [
    {
     "name": "stdout",
     "output_type": "stream",
     "text": [
      "R2 Score of Test Data:  0.9999999828078898\n"
     ]
    }
   ],
   "source": [
    "print('R2 Score of Test Data: ',r2_score(ytest,ytest_pred))"
   ]
  },
  {
   "cell_type": "code",
   "execution_count": 78,
   "metadata": {},
   "outputs": [
    {
     "name": "stdout",
     "output_type": "stream",
     "text": [
      "Adjusted R2 Score is:  0.9899692281391572\n"
     ]
    }
   ],
   "source": [
    "n=11736\n",
    "p=36\n",
    "R2=0.99\n",
    "Adj_r2 = 1-(((1-R2)*(n-1))/(n-p-1))\n",
    "print('Adjusted R2 Score is: ',Adj_r2)"
   ]
  },
  {
   "cell_type": "code",
   "execution_count": 79,
   "metadata": {},
   "outputs": [
    {
     "name": "stdout",
     "output_type": "stream",
     "text": [
      "Cross Validation Score:  0.9999999825106635\n"
     ]
    }
   ],
   "source": [
    "print('Cross Validation Score: ',np.mean(cross_val_score(LR,xtest,ytest,cv=10)))"
   ]
  },
  {
   "cell_type": "code",
   "execution_count": 80,
   "metadata": {},
   "outputs": [
    {
     "name": "stdout",
     "output_type": "stream",
     "text": [
      "Root Mean Squared Error:  0.006537666246726002\n"
     ]
    }
   ],
   "source": [
    "print('Root Mean Squared Error: ',np.sqrt(mean_squared_error(ytest,ytest_pred)))\n"
   ]
  },
  {
   "cell_type": "markdown",
   "metadata": {},
   "source": [
    "# 2.Random Forest Regressor"
   ]
  },
  {
   "cell_type": "code",
   "execution_count": 81,
   "metadata": {},
   "outputs": [],
   "source": [
    "rf= RandomForestRegressor()"
   ]
  },
  {
   "cell_type": "code",
   "execution_count": 82,
   "metadata": {},
   "outputs": [
    {
     "data": {
      "text/plain": [
       "RandomForestRegressor()"
      ]
     },
     "execution_count": 82,
     "metadata": {},
     "output_type": "execute_result"
    }
   ],
   "source": [
    "rf.fit(xtrain,ytrain)"
   ]
  },
  {
   "cell_type": "code",
   "execution_count": 83,
   "metadata": {},
   "outputs": [
    {
     "name": "stdout",
     "output_type": "stream",
     "text": [
      "R2 Score of Train Data:  0.9999999999415996\n",
      "R2 Score of Test Data:  0.9999999828078898\n"
     ]
    }
   ],
   "source": [
    "ytrain_pred = rf.predict(xtrain)\n",
    "ytets_pred= rf.predict(xtest)\n",
    "print('R2 Score of Train Data: ',r2_score(ytrain,ytrain_pred))\n",
    "print('R2 Score of Test Data: ',r2_score(ytest,ytest_pred))"
   ]
  },
  {
   "cell_type": "code",
   "execution_count": 84,
   "metadata": {},
   "outputs": [
    {
     "name": "stdout",
     "output_type": "stream",
     "text": [
      "Adjusted R2 Score is:  0.9899692281391572\n",
      "Cross Validation Score:  0.9999999825106635\n",
      "Root Mean Squared Error:  0.006537666246726002\n"
     ]
    }
   ],
   "source": [
    "n=11736\n",
    "p=36\n",
    "R2=0.99\n",
    "Adj_r2 = 1-(((1-R2)*(n-1))/(n-p-1))\n",
    "print('Adjusted R2 Score is: ',Adj_r2)\n",
    "\n",
    "print('Cross Validation Score: ',np.mean(cross_val_score(LR,xtest,ytest,cv=10)))\n",
    "\n",
    "print('Root Mean Squared Error: ',np.sqrt(mean_squared_error(ytest,ytest_pred)))\n"
   ]
  },
  {
   "cell_type": "markdown",
   "metadata": {},
   "source": [
    "# 3.Gradient Boosting Regressor"
   ]
  },
  {
   "cell_type": "code",
   "execution_count": 85,
   "metadata": {},
   "outputs": [],
   "source": [
    "gb= GradientBoostingRegressor()"
   ]
  },
  {
   "cell_type": "code",
   "execution_count": 86,
   "metadata": {},
   "outputs": [
    {
     "data": {
      "text/plain": [
       "GradientBoostingRegressor()"
      ]
     },
     "execution_count": 86,
     "metadata": {},
     "output_type": "execute_result"
    }
   ],
   "source": [
    "gb.fit(xtrain,ytrain)"
   ]
  },
  {
   "cell_type": "code",
   "execution_count": 87,
   "metadata": {},
   "outputs": [
    {
     "name": "stdout",
     "output_type": "stream",
     "text": [
      "R2 Score of Train Data:  0.9999999999415996\n",
      "R2 Score of Test Data:  0.9999999828078898\n"
     ]
    }
   ],
   "source": [
    "ytrain_pred = rf.predict(xtrain)\n",
    "ytets_pred= rf.predict(xtest)\n",
    "print('R2 Score of Train Data: ',r2_score(ytrain,ytrain_pred))\n",
    "print('R2 Score of Test Data: ',r2_score(ytest,ytest_pred))"
   ]
  },
  {
   "cell_type": "code",
   "execution_count": 88,
   "metadata": {},
   "outputs": [
    {
     "name": "stdout",
     "output_type": "stream",
     "text": [
      "Adjusted R2 Score is:  0.9899692281391572\n",
      "Cross Validation Score:  0.9999999825106635\n",
      "Root Mean Squared Error:  0.006537666246726002\n"
     ]
    }
   ],
   "source": [
    "n=11736\n",
    "p=36\n",
    "R2=0.99\n",
    "Adj_r2 = 1-(((1-R2)*(n-1))/(n-p-1))\n",
    "print('Adjusted R2 Score is: ',Adj_r2)\n",
    "\n",
    "print('Cross Validation Score: ',np.mean(cross_val_score(LR,xtest,ytest,cv=10)))\n",
    "\n",
    "print('Root Mean Squared Error: ',np.sqrt(mean_squared_error(ytest,ytest_pred)))\n"
   ]
  },
  {
   "cell_type": "markdown",
   "metadata": {},
   "source": [
    "# 4.XGBoost"
   ]
  },
  {
   "cell_type": "code",
   "execution_count": 89,
   "metadata": {},
   "outputs": [],
   "source": [
    "xgb= XGBRegressor()"
   ]
  },
  {
   "cell_type": "code",
   "execution_count": 90,
   "metadata": {},
   "outputs": [
    {
     "data": {
      "text/plain": [
       "XGBRegressor(base_score=None, booster=None, callbacks=None,\n",
       "             colsample_bylevel=None, colsample_bynode=None,\n",
       "             colsample_bytree=None, early_stopping_rounds=None,\n",
       "             enable_categorical=False, eval_metric=None, feature_types=None,\n",
       "             gamma=None, gpu_id=None, grow_policy=None, importance_type=None,\n",
       "             interaction_constraints=None, learning_rate=None, max_bin=None,\n",
       "             max_cat_threshold=None, max_cat_to_onehot=None,\n",
       "             max_delta_step=None, max_depth=None, max_leaves=None,\n",
       "             min_child_weight=None, missing=nan, monotone_constraints=None,\n",
       "             n_estimators=100, n_jobs=None, num_parallel_tree=None,\n",
       "             predictor=None, random_state=None, ...)"
      ]
     },
     "execution_count": 90,
     "metadata": {},
     "output_type": "execute_result"
    }
   ],
   "source": [
    "xgb.fit(xtrain,ytrain)"
   ]
  },
  {
   "cell_type": "code",
   "execution_count": 91,
   "metadata": {},
   "outputs": [
    {
     "name": "stdout",
     "output_type": "stream",
     "text": [
      "R2 Score of Train Data:  0.9999999999415996\n",
      "R2 Score of Test Data:  0.9999999828078898\n"
     ]
    }
   ],
   "source": [
    "ytrain_pred = rf.predict(xtrain)\n",
    "ytets_pred= rf.predict(xtest)\n",
    "print('R2 Score of Train Data: ',r2_score(ytrain,ytrain_pred))\n",
    "print('R2 Score of Test Data: ',r2_score(ytest,ytest_pred))"
   ]
  },
  {
   "cell_type": "code",
   "execution_count": 92,
   "metadata": {},
   "outputs": [
    {
     "name": "stdout",
     "output_type": "stream",
     "text": [
      "Adjusted R2 Score is:  0.9899692281391572\n",
      "Cross Validation Score:  0.9999999825106635\n",
      "Root Mean Squared Error:  0.006537666246726002\n"
     ]
    }
   ],
   "source": [
    "n=11736\n",
    "p=36\n",
    "R2=0.99\n",
    "Adj_r2 = 1-(((1-R2)*(n-1))/(n-p-1))\n",
    "print('Adjusted R2 Score is: ',Adj_r2)\n",
    "\n",
    "print('Cross Validation Score: ',np.mean(cross_val_score(LR,xtest,ytest,cv=10)))\n",
    "\n",
    "print('Root Mean Squared Error: ',np.sqrt(mean_squared_error(ytest,ytest_pred)))\n"
   ]
  },
  {
   "cell_type": "code",
   "execution_count": null,
   "metadata": {},
   "outputs": [],
   "source": []
  }
 ],
 "metadata": {
  "kernelspec": {
   "display_name": "Python 3 (ipykernel)",
   "language": "python",
   "name": "python3"
  },
  "language_info": {
   "codemirror_mode": {
    "name": "ipython",
    "version": 3
   },
   "file_extension": ".py",
   "mimetype": "text/x-python",
   "name": "python",
   "nbconvert_exporter": "python",
   "pygments_lexer": "ipython3",
   "version": "3.9.13"
  },
  "vscode": {
   "interpreter": {
    "hash": "20a9e06a1eee47c4abbed4ec8225ad91d78d9800d202b71b6b0a6e47016c6abd"
   }
  }
 },
 "nbformat": 4,
 "nbformat_minor": 2
}
